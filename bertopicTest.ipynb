{
 "cells": [
  {
   "cell_type": "code",
   "execution_count": 2,
   "id": "b3828794-3c4b-45f7-8aed-38c23385a9cb",
   "metadata": {
    "tags": []
   },
   "outputs": [],
   "source": [
    "import pandas as pd\n",
    "from bertopic import BERTopic\n",
    "from sklearn.datasets import fetch_20newsgroups\n",
    "\n",
    "data = fetch_20newsgroups(subset='all',  remove=('headers', 'footers', 'quotes'))\n",
    "docs = data[\"data\"]\n",
    "targets = data[\"target\"]\n",
    "target_names = data[\"target_names\"]\n",
    "classes = [data[\"target_names\"][i] for i in data[\"target\"]]"
   ]
  },
  {
   "cell_type": "code",
   "execution_count": 3,
   "id": "c01c9db9-fa51-41da-974c-d2d6eff72656",
   "metadata": {
    "collapsed": true,
    "jupyter": {
     "outputs_hidden": true
    },
    "tags": []
   },
   "outputs": [
    {
     "data": {
      "text/plain": [
       "['alt.atheism',\n",
       " 'comp.graphics',\n",
       " 'comp.os.ms-windows.misc',\n",
       " 'comp.sys.ibm.pc.hardware',\n",
       " 'comp.sys.mac.hardware',\n",
       " 'comp.windows.x',\n",
       " 'misc.forsale',\n",
       " 'rec.autos',\n",
       " 'rec.motorcycles',\n",
       " 'rec.sport.baseball',\n",
       " 'rec.sport.hockey',\n",
       " 'sci.crypt',\n",
       " 'sci.electronics',\n",
       " 'sci.med',\n",
       " 'sci.space',\n",
       " 'soc.religion.christian',\n",
       " 'talk.politics.guns',\n",
       " 'talk.politics.mideast',\n",
       " 'talk.politics.misc',\n",
       " 'talk.religion.misc']"
      ]
     },
     "execution_count": 3,
     "metadata": {},
     "output_type": "execute_result"
    }
   ],
   "source": [
    "target_names"
   ]
  },
  {
   "cell_type": "code",
   "execution_count": 4,
   "id": "d8e11bcf-d7af-4fdf-afa9-ab0390cd1b4f",
   "metadata": {
    "collapsed": true,
    "jupyter": {
     "outputs_hidden": true
    },
    "tags": []
   },
   "outputs": [
    {
     "data": {
      "text/plain": [
       "['rec.sport.hockey',\n",
       " 'comp.sys.ibm.pc.hardware',\n",
       " 'talk.politics.mideast',\n",
       " 'comp.sys.ibm.pc.hardware',\n",
       " 'comp.sys.mac.hardware',\n",
       " 'sci.electronics',\n",
       " 'comp.sys.mac.hardware',\n",
       " 'rec.sport.hockey',\n",
       " 'rec.sport.hockey',\n",
       " 'talk.religion.misc',\n",
       " 'talk.religion.misc',\n",
       " 'sci.crypt',\n",
       " 'talk.religion.misc',\n",
       " 'sci.med',\n",
       " 'alt.atheism',\n",
       " 'talk.politics.mideast',\n",
       " 'sci.electronics',\n",
       " 'sci.electronics',\n",
       " 'sci.crypt',\n",
       " 'rec.motorcycles',\n",
       " 'rec.autos',\n",
       " 'comp.windows.x',\n",
       " 'comp.graphics',\n",
       " 'rec.motorcycles',\n",
       " 'rec.sport.hockey',\n",
       " 'sci.space',\n",
       " 'talk.politics.guns',\n",
       " 'comp.graphics',\n",
       " 'misc.forsale',\n",
       " 'alt.atheism',\n",
       " 'rec.autos',\n",
       " 'talk.politics.guns',\n",
       " 'comp.windows.x',\n",
       " 'rec.sport.baseball',\n",
       " 'sci.med',\n",
       " 'comp.sys.mac.hardware',\n",
       " 'comp.sys.mac.hardware',\n",
       " 'talk.politics.misc',\n",
       " 'rec.motorcycles',\n",
       " 'rec.motorcycles',\n",
       " 'talk.religion.misc',\n",
       " 'comp.graphics',\n",
       " 'sci.electronics',\n",
       " 'rec.autos',\n",
       " 'rec.sport.hockey',\n",
       " 'comp.windows.x',\n",
       " 'comp.os.ms-windows.misc',\n",
       " 'misc.forsale',\n",
       " 'sci.crypt',\n",
       " 'comp.os.ms-windows.misc',\n",
       " 'sci.electronics',\n",
       " 'rec.autos',\n",
       " 'talk.politics.misc',\n",
       " 'sci.crypt',\n",
       " 'rec.autos',\n",
       " 'rec.motorcycles',\n",
       " 'alt.atheism',\n",
       " 'comp.sys.mac.hardware',\n",
       " 'talk.religion.misc',\n",
       " 'rec.motorcycles',\n",
       " 'rec.sport.baseball',\n",
       " 'comp.sys.mac.hardware',\n",
       " 'comp.graphics',\n",
       " 'comp.graphics',\n",
       " 'talk.politics.mideast',\n",
       " 'sci.crypt',\n",
       " 'rec.sport.hockey',\n",
       " 'sci.crypt',\n",
       " 'comp.windows.x',\n",
       " 'comp.graphics',\n",
       " 'comp.sys.ibm.pc.hardware',\n",
       " 'talk.politics.mideast',\n",
       " 'misc.forsale',\n",
       " 'sci.space',\n",
       " 'talk.religion.misc',\n",
       " 'sci.space',\n",
       " 'rec.sport.hockey',\n",
       " 'comp.os.ms-windows.misc',\n",
       " 'soc.religion.christian',\n",
       " 'rec.sport.hockey',\n",
       " 'sci.electronics',\n",
       " 'rec.autos',\n",
       " 'comp.windows.x',\n",
       " 'sci.electronics',\n",
       " 'comp.sys.mac.hardware',\n",
       " 'soc.religion.christian',\n",
       " 'talk.politics.guns',\n",
       " 'sci.med',\n",
       " 'rec.motorcycles',\n",
       " 'soc.religion.christian',\n",
       " 'rec.sport.baseball',\n",
       " 'talk.religion.misc',\n",
       " 'soc.religion.christian',\n",
       " 'comp.os.ms-windows.misc',\n",
       " 'talk.politics.mideast',\n",
       " 'comp.sys.ibm.pc.hardware',\n",
       " 'comp.os.ms-windows.misc',\n",
       " 'rec.sport.hockey',\n",
       " 'talk.politics.guns',\n",
       " 'comp.windows.x',\n",
       " 'talk.politics.mideast',\n",
       " 'comp.graphics',\n",
       " 'comp.os.ms-windows.misc',\n",
       " 'talk.politics.mideast',\n",
       " 'talk.religion.misc',\n",
       " 'rec.sport.hockey',\n",
       " 'comp.sys.mac.hardware',\n",
       " 'talk.politics.misc',\n",
       " 'misc.forsale',\n",
       " 'comp.os.ms-windows.misc',\n",
       " 'comp.sys.mac.hardware',\n",
       " 'rec.autos',\n",
       " 'sci.space',\n",
       " 'comp.windows.x',\n",
       " 'talk.politics.mideast',\n",
       " 'talk.politics.mideast',\n",
       " 'sci.electronics',\n",
       " 'sci.crypt',\n",
       " 'rec.sport.baseball',\n",
       " 'comp.sys.mac.hardware',\n",
       " 'comp.sys.ibm.pc.hardware',\n",
       " 'sci.electronics',\n",
       " 'comp.os.ms-windows.misc',\n",
       " 'sci.electronics',\n",
       " 'talk.politics.guns',\n",
       " 'comp.sys.mac.hardware',\n",
       " 'comp.os.ms-windows.misc',\n",
       " 'rec.sport.hockey',\n",
       " 'sci.electronics',\n",
       " 'comp.graphics',\n",
       " 'talk.politics.mideast',\n",
       " 'soc.religion.christian',\n",
       " 'talk.politics.guns',\n",
       " 'rec.sport.hockey',\n",
       " 'comp.sys.ibm.pc.hardware',\n",
       " 'talk.politics.mideast',\n",
       " 'comp.os.ms-windows.misc',\n",
       " 'sci.crypt',\n",
       " 'comp.sys.ibm.pc.hardware',\n",
       " 'rec.motorcycles',\n",
       " 'alt.atheism',\n",
       " 'comp.os.ms-windows.misc',\n",
       " 'rec.autos',\n",
       " 'comp.windows.x',\n",
       " 'sci.med',\n",
       " 'sci.crypt',\n",
       " 'comp.sys.mac.hardware',\n",
       " 'comp.graphics',\n",
       " 'rec.sport.baseball',\n",
       " 'misc.forsale',\n",
       " 'rec.motorcycles',\n",
       " 'rec.motorcycles',\n",
       " 'comp.sys.ibm.pc.hardware',\n",
       " 'comp.sys.ibm.pc.hardware',\n",
       " 'talk.politics.misc',\n",
       " 'comp.sys.mac.hardware',\n",
       " 'rec.motorcycles',\n",
       " 'talk.politics.misc',\n",
       " 'sci.space',\n",
       " 'comp.sys.mac.hardware',\n",
       " 'comp.graphics',\n",
       " 'comp.sys.ibm.pc.hardware',\n",
       " 'sci.electronics',\n",
       " 'soc.religion.christian',\n",
       " 'comp.graphics',\n",
       " 'comp.sys.mac.hardware',\n",
       " 'soc.religion.christian',\n",
       " 'sci.space',\n",
       " 'comp.sys.mac.hardware',\n",
       " 'sci.med',\n",
       " 'comp.sys.mac.hardware',\n",
       " 'sci.med',\n",
       " 'comp.sys.ibm.pc.hardware',\n",
       " 'alt.atheism',\n",
       " 'comp.windows.x',\n",
       " 'comp.os.ms-windows.misc',\n",
       " 'rec.sport.baseball',\n",
       " 'soc.religion.christian',\n",
       " 'rec.motorcycles',\n",
       " 'rec.sport.hockey',\n",
       " 'rec.autos',\n",
       " 'rec.sport.baseball',\n",
       " 'talk.politics.misc',\n",
       " 'sci.electronics',\n",
       " 'comp.sys.mac.hardware',\n",
       " 'comp.os.ms-windows.misc',\n",
       " 'talk.politics.mideast',\n",
       " 'talk.politics.mideast',\n",
       " 'talk.politics.mideast',\n",
       " 'talk.religion.misc',\n",
       " 'misc.forsale',\n",
       " 'soc.religion.christian',\n",
       " 'sci.crypt',\n",
       " 'alt.atheism',\n",
       " 'talk.religion.misc',\n",
       " 'soc.religion.christian',\n",
       " 'talk.politics.mideast',\n",
       " 'misc.forsale',\n",
       " 'sci.med',\n",
       " 'comp.graphics',\n",
       " 'talk.religion.misc',\n",
       " 'comp.sys.mac.hardware',\n",
       " 'soc.religion.christian',\n",
       " 'comp.windows.x',\n",
       " 'comp.graphics',\n",
       " 'rec.autos',\n",
       " 'misc.forsale',\n",
       " 'soc.religion.christian',\n",
       " 'sci.electronics',\n",
       " 'alt.atheism',\n",
       " 'rec.autos',\n",
       " 'comp.windows.x',\n",
       " 'comp.windows.x',\n",
       " 'comp.sys.ibm.pc.hardware',\n",
       " 'rec.motorcycles',\n",
       " 'talk.politics.guns',\n",
       " 'comp.os.ms-windows.misc',\n",
       " 'talk.politics.mideast',\n",
       " 'sci.space',\n",
       " 'sci.crypt',\n",
       " 'rec.sport.hockey',\n",
       " 'soc.religion.christian',\n",
       " 'comp.sys.ibm.pc.hardware',\n",
       " 'rec.autos',\n",
       " 'sci.crypt',\n",
       " 'alt.atheism',\n",
       " 'sci.crypt',\n",
       " 'rec.motorcycles',\n",
       " 'rec.motorcycles',\n",
       " 'rec.sport.hockey',\n",
       " 'rec.motorcycles',\n",
       " 'comp.sys.ibm.pc.hardware',\n",
       " 'sci.space',\n",
       " 'comp.sys.ibm.pc.hardware',\n",
       " 'rec.sport.baseball',\n",
       " 'comp.windows.x',\n",
       " 'soc.religion.christian',\n",
       " 'rec.sport.hockey',\n",
       " 'rec.sport.hockey',\n",
       " 'comp.windows.x',\n",
       " 'sci.electronics',\n",
       " 'sci.electronics',\n",
       " 'sci.med',\n",
       " 'sci.space',\n",
       " 'misc.forsale',\n",
       " 'misc.forsale',\n",
       " 'comp.os.ms-windows.misc',\n",
       " 'rec.autos',\n",
       " 'soc.religion.christian',\n",
       " 'alt.atheism',\n",
       " 'comp.sys.ibm.pc.hardware',\n",
       " 'sci.electronics',\n",
       " 'comp.graphics',\n",
       " 'comp.sys.ibm.pc.hardware',\n",
       " 'talk.politics.guns',\n",
       " 'comp.windows.x',\n",
       " 'sci.electronics',\n",
       " 'talk.politics.guns',\n",
       " 'comp.sys.mac.hardware',\n",
       " 'comp.graphics',\n",
       " 'comp.sys.ibm.pc.hardware',\n",
       " 'sci.electronics',\n",
       " 'sci.space',\n",
       " 'sci.med',\n",
       " 'comp.os.ms-windows.misc',\n",
       " 'comp.os.ms-windows.misc',\n",
       " 'comp.graphics',\n",
       " 'sci.space',\n",
       " 'rec.motorcycles',\n",
       " 'comp.sys.ibm.pc.hardware',\n",
       " 'comp.graphics',\n",
       " 'sci.med',\n",
       " 'talk.politics.mideast',\n",
       " 'comp.os.ms-windows.misc',\n",
       " 'sci.med',\n",
       " 'talk.religion.misc',\n",
       " 'talk.politics.mideast',\n",
       " 'comp.windows.x',\n",
       " 'sci.crypt',\n",
       " 'soc.religion.christian',\n",
       " 'sci.med',\n",
       " 'talk.religion.misc',\n",
       " 'talk.religion.misc',\n",
       " 'rec.sport.baseball',\n",
       " 'comp.windows.x',\n",
       " 'talk.politics.guns',\n",
       " 'talk.politics.mideast',\n",
       " 'sci.med',\n",
       " 'comp.sys.mac.hardware',\n",
       " 'comp.sys.ibm.pc.hardware',\n",
       " 'comp.os.ms-windows.misc',\n",
       " 'talk.politics.guns',\n",
       " 'talk.politics.misc',\n",
       " 'comp.windows.x',\n",
       " 'comp.graphics',\n",
       " 'comp.windows.x',\n",
       " 'misc.forsale',\n",
       " 'talk.politics.guns',\n",
       " 'comp.windows.x',\n",
       " 'sci.crypt',\n",
       " 'soc.religion.christian',\n",
       " 'alt.atheism',\n",
       " 'comp.graphics',\n",
       " 'talk.politics.misc',\n",
       " 'rec.autos',\n",
       " 'comp.windows.x',\n",
       " 'comp.sys.mac.hardware',\n",
       " 'talk.politics.misc',\n",
       " 'rec.sport.hockey',\n",
       " 'sci.space',\n",
       " 'comp.sys.mac.hardware',\n",
       " 'rec.autos',\n",
       " 'alt.atheism',\n",
       " 'sci.electronics',\n",
       " 'rec.autos',\n",
       " 'comp.graphics',\n",
       " 'sci.med',\n",
       " 'talk.politics.mideast',\n",
       " 'sci.electronics',\n",
       " 'alt.atheism',\n",
       " 'talk.politics.guns',\n",
       " 'comp.sys.ibm.pc.hardware',\n",
       " 'soc.religion.christian',\n",
       " 'comp.os.ms-windows.misc',\n",
       " 'comp.sys.ibm.pc.hardware',\n",
       " 'rec.sport.baseball',\n",
       " 'sci.space',\n",
       " 'rec.sport.baseball',\n",
       " 'comp.os.ms-windows.misc',\n",
       " 'rec.motorcycles',\n",
       " 'sci.crypt',\n",
       " 'comp.os.ms-windows.misc',\n",
       " 'comp.sys.ibm.pc.hardware',\n",
       " 'rec.sport.baseball',\n",
       " 'comp.graphics',\n",
       " 'comp.windows.x',\n",
       " 'talk.religion.misc',\n",
       " 'sci.space',\n",
       " 'comp.os.ms-windows.misc',\n",
       " 'sci.space',\n",
       " 'comp.graphics',\n",
       " 'talk.politics.misc',\n",
       " 'comp.windows.x',\n",
       " 'alt.atheism',\n",
       " 'talk.politics.misc',\n",
       " 'soc.religion.christian',\n",
       " 'talk.politics.guns',\n",
       " 'talk.politics.mideast',\n",
       " 'alt.atheism',\n",
       " 'sci.med',\n",
       " 'comp.sys.ibm.pc.hardware',\n",
       " 'talk.politics.guns',\n",
       " 'sci.med',\n",
       " 'misc.forsale',\n",
       " 'talk.politics.mideast',\n",
       " 'soc.religion.christian',\n",
       " 'rec.sport.hockey',\n",
       " 'comp.windows.x',\n",
       " 'sci.med',\n",
       " 'comp.os.ms-windows.misc',\n",
       " 'comp.graphics',\n",
       " 'rec.autos',\n",
       " 'alt.atheism',\n",
       " 'rec.sport.hockey',\n",
       " 'talk.politics.misc',\n",
       " 'rec.sport.hockey',\n",
       " 'sci.space',\n",
       " 'soc.religion.christian',\n",
       " 'talk.politics.guns',\n",
       " 'comp.sys.ibm.pc.hardware',\n",
       " 'comp.graphics',\n",
       " 'rec.sport.hockey',\n",
       " 'rec.autos',\n",
       " 'talk.politics.guns',\n",
       " 'alt.atheism',\n",
       " 'rec.sport.hockey',\n",
       " 'talk.religion.misc',\n",
       " 'talk.religion.misc',\n",
       " 'comp.sys.ibm.pc.hardware',\n",
       " 'sci.electronics',\n",
       " 'sci.crypt',\n",
       " 'soc.religion.christian',\n",
       " 'comp.windows.x',\n",
       " 'sci.med',\n",
       " 'sci.space',\n",
       " 'rec.sport.hockey',\n",
       " 'rec.sport.baseball',\n",
       " 'comp.windows.x',\n",
       " 'rec.autos',\n",
       " 'rec.autos',\n",
       " 'sci.space',\n",
       " 'soc.religion.christian',\n",
       " 'rec.autos',\n",
       " 'rec.sport.baseball',\n",
       " 'rec.sport.baseball',\n",
       " 'talk.politics.misc',\n",
       " 'comp.windows.x',\n",
       " 'comp.graphics',\n",
       " 'soc.religion.christian',\n",
       " 'comp.windows.x',\n",
       " 'comp.os.ms-windows.misc',\n",
       " 'talk.religion.misc',\n",
       " 'rec.sport.hockey',\n",
       " 'alt.atheism',\n",
       " 'sci.med',\n",
       " 'sci.electronics',\n",
       " 'talk.religion.misc',\n",
       " 'sci.electronics',\n",
       " 'sci.med',\n",
       " 'sci.space',\n",
       " 'rec.sport.baseball',\n",
       " 'comp.sys.ibm.pc.hardware',\n",
       " 'soc.religion.christian',\n",
       " 'rec.motorcycles',\n",
       " 'sci.crypt',\n",
       " 'sci.space',\n",
       " 'talk.politics.guns',\n",
       " 'talk.politics.guns',\n",
       " 'misc.forsale',\n",
       " 'soc.religion.christian',\n",
       " 'sci.electronics',\n",
       " 'sci.electronics',\n",
       " 'comp.sys.ibm.pc.hardware',\n",
       " 'sci.electronics',\n",
       " 'talk.politics.guns',\n",
       " 'soc.religion.christian',\n",
       " 'sci.electronics',\n",
       " 'rec.sport.hockey',\n",
       " 'sci.crypt',\n",
       " 'rec.motorcycles',\n",
       " 'comp.graphics',\n",
       " 'talk.politics.mideast',\n",
       " 'rec.sport.baseball',\n",
       " 'sci.med',\n",
       " 'rec.motorcycles',\n",
       " 'talk.religion.misc',\n",
       " 'comp.os.ms-windows.misc',\n",
       " 'comp.sys.mac.hardware',\n",
       " 'comp.sys.ibm.pc.hardware',\n",
       " 'talk.politics.guns',\n",
       " 'rec.motorcycles',\n",
       " 'comp.graphics',\n",
       " 'sci.med',\n",
       " 'soc.religion.christian',\n",
       " 'comp.sys.mac.hardware',\n",
       " 'sci.med',\n",
       " 'sci.crypt',\n",
       " 'comp.sys.mac.hardware',\n",
       " 'rec.autos',\n",
       " 'comp.graphics',\n",
       " 'misc.forsale',\n",
       " 'sci.med',\n",
       " 'soc.religion.christian',\n",
       " 'sci.space',\n",
       " 'alt.atheism',\n",
       " 'comp.os.ms-windows.misc',\n",
       " 'comp.sys.ibm.pc.hardware',\n",
       " 'rec.motorcycles',\n",
       " 'rec.sport.hockey',\n",
       " 'comp.sys.mac.hardware',\n",
       " 'rec.sport.hockey',\n",
       " 'misc.forsale',\n",
       " 'comp.windows.x',\n",
       " 'misc.forsale',\n",
       " 'comp.windows.x',\n",
       " 'misc.forsale',\n",
       " 'comp.sys.mac.hardware',\n",
       " 'comp.os.ms-windows.misc',\n",
       " 'soc.religion.christian',\n",
       " 'comp.sys.mac.hardware',\n",
       " 'misc.forsale',\n",
       " 'talk.politics.misc',\n",
       " 'comp.graphics',\n",
       " 'comp.windows.x',\n",
       " 'rec.sport.baseball',\n",
       " 'talk.religion.misc',\n",
       " 'comp.sys.mac.hardware',\n",
       " 'alt.atheism',\n",
       " 'comp.graphics',\n",
       " 'talk.religion.misc',\n",
       " 'alt.atheism',\n",
       " 'comp.sys.ibm.pc.hardware',\n",
       " 'sci.crypt',\n",
       " 'comp.sys.mac.hardware',\n",
       " 'comp.os.ms-windows.misc',\n",
       " 'comp.sys.mac.hardware',\n",
       " 'rec.sport.baseball',\n",
       " 'alt.atheism',\n",
       " 'sci.electronics',\n",
       " 'talk.religion.misc',\n",
       " 'rec.autos',\n",
       " 'rec.autos',\n",
       " 'comp.os.ms-windows.misc',\n",
       " 'misc.forsale',\n",
       " 'sci.crypt',\n",
       " 'sci.space',\n",
       " 'rec.autos',\n",
       " 'talk.politics.misc',\n",
       " 'rec.sport.baseball',\n",
       " 'comp.sys.ibm.pc.hardware',\n",
       " 'soc.religion.christian',\n",
       " 'comp.os.ms-windows.misc',\n",
       " 'comp.graphics',\n",
       " 'comp.graphics',\n",
       " 'rec.motorcycles',\n",
       " 'sci.space',\n",
       " 'comp.sys.ibm.pc.hardware',\n",
       " 'misc.forsale',\n",
       " 'sci.crypt',\n",
       " 'rec.autos',\n",
       " 'comp.graphics',\n",
       " 'sci.space',\n",
       " 'talk.religion.misc',\n",
       " 'rec.sport.baseball',\n",
       " 'rec.sport.hockey',\n",
       " 'comp.windows.x',\n",
       " 'sci.electronics',\n",
       " 'sci.electronics',\n",
       " 'comp.sys.mac.hardware',\n",
       " 'rec.motorcycles',\n",
       " 'sci.electronics',\n",
       " 'talk.politics.mideast',\n",
       " 'sci.space',\n",
       " 'comp.graphics',\n",
       " 'talk.politics.guns',\n",
       " 'rec.sport.baseball',\n",
       " 'alt.atheism',\n",
       " 'rec.sport.baseball',\n",
       " 'sci.med',\n",
       " 'rec.sport.baseball',\n",
       " 'sci.space',\n",
       " 'sci.med',\n",
       " 'rec.autos',\n",
       " 'talk.politics.guns',\n",
       " 'comp.os.ms-windows.misc',\n",
       " 'rec.sport.baseball',\n",
       " 'comp.windows.x',\n",
       " 'sci.med',\n",
       " 'talk.politics.misc',\n",
       " 'comp.sys.mac.hardware',\n",
       " 'rec.motorcycles',\n",
       " 'rec.motorcycles',\n",
       " 'rec.sport.baseball',\n",
       " 'comp.sys.ibm.pc.hardware',\n",
       " 'soc.religion.christian',\n",
       " 'talk.politics.guns',\n",
       " 'comp.graphics',\n",
       " 'rec.motorcycles',\n",
       " 'sci.med',\n",
       " 'soc.religion.christian',\n",
       " 'talk.politics.guns',\n",
       " 'comp.windows.x',\n",
       " 'talk.politics.mideast',\n",
       " 'rec.motorcycles',\n",
       " 'rec.sport.baseball',\n",
       " 'comp.windows.x',\n",
       " 'rec.sport.hockey',\n",
       " 'rec.motorcycles',\n",
       " 'soc.religion.christian',\n",
       " 'rec.motorcycles',\n",
       " 'rec.autos',\n",
       " 'talk.politics.mideast',\n",
       " 'alt.atheism',\n",
       " 'rec.sport.hockey',\n",
       " 'comp.sys.ibm.pc.hardware',\n",
       " 'sci.electronics',\n",
       " 'rec.motorcycles',\n",
       " 'sci.crypt',\n",
       " 'comp.windows.x',\n",
       " 'rec.motorcycles',\n",
       " 'talk.politics.misc',\n",
       " 'misc.forsale',\n",
       " 'comp.windows.x',\n",
       " 'talk.politics.misc',\n",
       " 'rec.motorcycles',\n",
       " 'sci.crypt',\n",
       " 'rec.sport.baseball',\n",
       " 'soc.religion.christian',\n",
       " 'talk.politics.mideast',\n",
       " 'rec.motorcycles',\n",
       " 'sci.med',\n",
       " 'sci.electronics',\n",
       " 'rec.motorcycles',\n",
       " 'alt.atheism',\n",
       " 'talk.religion.misc',\n",
       " 'comp.os.ms-windows.misc',\n",
       " 'talk.politics.mideast',\n",
       " 'sci.space',\n",
       " 'rec.sport.hockey',\n",
       " 'rec.autos',\n",
       " 'talk.politics.misc',\n",
       " 'talk.politics.guns',\n",
       " 'talk.politics.mideast',\n",
       " 'rec.sport.hockey',\n",
       " 'sci.electronics',\n",
       " 'talk.politics.guns',\n",
       " 'comp.graphics',\n",
       " 'rec.motorcycles',\n",
       " 'rec.sport.hockey',\n",
       " 'sci.crypt',\n",
       " 'comp.graphics',\n",
       " 'sci.space',\n",
       " 'talk.politics.guns',\n",
       " 'comp.graphics',\n",
       " 'comp.os.ms-windows.misc',\n",
       " 'talk.politics.mideast',\n",
       " 'sci.electronics',\n",
       " 'sci.crypt',\n",
       " 'misc.forsale',\n",
       " 'comp.sys.mac.hardware',\n",
       " 'sci.space',\n",
       " 'misc.forsale',\n",
       " 'soc.religion.christian',\n",
       " 'misc.forsale',\n",
       " 'soc.religion.christian',\n",
       " 'sci.electronics',\n",
       " 'sci.crypt',\n",
       " 'talk.religion.misc',\n",
       " 'sci.electronics',\n",
       " 'misc.forsale',\n",
       " 'talk.politics.guns',\n",
       " 'comp.graphics',\n",
       " 'misc.forsale',\n",
       " 'rec.sport.baseball',\n",
       " 'comp.windows.x',\n",
       " 'sci.med',\n",
       " 'talk.politics.mideast',\n",
       " 'sci.space',\n",
       " 'comp.windows.x',\n",
       " 'rec.sport.hockey',\n",
       " 'rec.sport.baseball',\n",
       " 'talk.politics.guns',\n",
       " 'sci.space',\n",
       " 'alt.atheism',\n",
       " 'misc.forsale',\n",
       " 'alt.atheism',\n",
       " 'alt.atheism',\n",
       " 'talk.politics.misc',\n",
       " 'talk.religion.misc',\n",
       " 'talk.politics.guns',\n",
       " 'misc.forsale',\n",
       " 'talk.politics.misc',\n",
       " 'talk.politics.misc',\n",
       " 'comp.sys.ibm.pc.hardware',\n",
       " 'sci.space',\n",
       " 'sci.med',\n",
       " 'sci.med',\n",
       " 'comp.os.ms-windows.misc',\n",
       " 'talk.religion.misc',\n",
       " 'rec.sport.hockey',\n",
       " 'rec.motorcycles',\n",
       " 'comp.os.ms-windows.misc',\n",
       " 'talk.religion.misc',\n",
       " 'comp.windows.x',\n",
       " 'talk.politics.misc',\n",
       " 'soc.religion.christian',\n",
       " 'comp.windows.x',\n",
       " 'sci.space',\n",
       " 'comp.windows.x',\n",
       " 'comp.windows.x',\n",
       " 'sci.electronics',\n",
       " 'misc.forsale',\n",
       " 'rec.autos',\n",
       " 'misc.forsale',\n",
       " 'talk.religion.misc',\n",
       " 'talk.politics.misc',\n",
       " 'rec.sport.baseball',\n",
       " 'talk.religion.misc',\n",
       " 'talk.politics.misc',\n",
       " 'comp.sys.mac.hardware',\n",
       " 'rec.sport.hockey',\n",
       " 'comp.sys.ibm.pc.hardware',\n",
       " 'alt.atheism',\n",
       " 'comp.windows.x',\n",
       " 'sci.crypt',\n",
       " 'sci.electronics',\n",
       " 'sci.electronics',\n",
       " 'alt.atheism',\n",
       " 'sci.crypt',\n",
       " 'sci.med',\n",
       " 'soc.religion.christian',\n",
       " 'comp.sys.ibm.pc.hardware',\n",
       " 'comp.windows.x',\n",
       " 'comp.os.ms-windows.misc',\n",
       " 'rec.motorcycles',\n",
       " 'rec.autos',\n",
       " 'rec.sport.baseball',\n",
       " 'rec.sport.hockey',\n",
       " 'talk.politics.misc',\n",
       " 'sci.med',\n",
       " 'comp.windows.x',\n",
       " 'talk.politics.guns',\n",
       " 'alt.atheism',\n",
       " 'sci.space',\n",
       " 'misc.forsale',\n",
       " 'comp.sys.mac.hardware',\n",
       " 'comp.sys.ibm.pc.hardware',\n",
       " 'comp.sys.ibm.pc.hardware',\n",
       " 'sci.space',\n",
       " 'comp.graphics',\n",
       " 'sci.crypt',\n",
       " 'rec.sport.baseball',\n",
       " 'comp.sys.ibm.pc.hardware',\n",
       " 'comp.graphics',\n",
       " 'comp.graphics',\n",
       " 'talk.religion.misc',\n",
       " 'sci.med',\n",
       " 'rec.sport.hockey',\n",
       " 'talk.politics.mideast',\n",
       " 'comp.windows.x',\n",
       " 'rec.sport.baseball',\n",
       " 'comp.sys.ibm.pc.hardware',\n",
       " 'sci.crypt',\n",
       " 'rec.autos',\n",
       " 'sci.crypt',\n",
       " 'talk.politics.guns',\n",
       " 'comp.sys.ibm.pc.hardware',\n",
       " 'sci.electronics',\n",
       " 'sci.electronics',\n",
       " 'comp.sys.mac.hardware',\n",
       " 'sci.med',\n",
       " 'sci.space',\n",
       " 'talk.politics.mideast',\n",
       " 'sci.space',\n",
       " 'comp.graphics',\n",
       " 'comp.os.ms-windows.misc',\n",
       " 'talk.politics.guns',\n",
       " 'sci.electronics',\n",
       " 'comp.graphics',\n",
       " 'comp.os.ms-windows.misc',\n",
       " 'talk.religion.misc',\n",
       " 'talk.politics.mideast',\n",
       " 'talk.religion.misc',\n",
       " 'sci.med',\n",
       " 'talk.politics.guns',\n",
       " 'alt.atheism',\n",
       " 'talk.politics.mideast',\n",
       " 'talk.politics.misc',\n",
       " 'rec.sport.baseball',\n",
       " 'misc.forsale',\n",
       " 'sci.space',\n",
       " 'comp.os.ms-windows.misc',\n",
       " 'rec.sport.hockey',\n",
       " 'talk.politics.mideast',\n",
       " 'rec.sport.baseball',\n",
       " 'rec.motorcycles',\n",
       " 'rec.motorcycles',\n",
       " 'rec.sport.hockey',\n",
       " 'comp.windows.x',\n",
       " 'misc.forsale',\n",
       " 'comp.windows.x',\n",
       " 'sci.electronics',\n",
       " 'comp.windows.x',\n",
       " 'comp.sys.mac.hardware',\n",
       " 'alt.atheism',\n",
       " 'comp.sys.ibm.pc.hardware',\n",
       " 'comp.windows.x',\n",
       " 'sci.med',\n",
       " 'sci.med',\n",
       " 'rec.sport.hockey',\n",
       " 'rec.autos',\n",
       " 'talk.politics.misc',\n",
       " 'sci.med',\n",
       " 'rec.sport.hockey',\n",
       " 'comp.graphics',\n",
       " 'talk.politics.guns',\n",
       " 'talk.religion.misc',\n",
       " 'soc.religion.christian',\n",
       " 'comp.os.ms-windows.misc',\n",
       " 'talk.politics.misc',\n",
       " 'talk.politics.misc',\n",
       " 'comp.os.ms-windows.misc',\n",
       " 'sci.electronics',\n",
       " 'rec.autos',\n",
       " 'sci.crypt',\n",
       " 'rec.sport.hockey',\n",
       " 'rec.sport.hockey',\n",
       " 'comp.sys.ibm.pc.hardware',\n",
       " 'sci.electronics',\n",
       " 'soc.religion.christian',\n",
       " 'alt.atheism',\n",
       " 'sci.med',\n",
       " 'comp.windows.x',\n",
       " 'misc.forsale',\n",
       " 'sci.space',\n",
       " 'rec.autos',\n",
       " 'sci.space',\n",
       " 'sci.crypt',\n",
       " 'comp.sys.ibm.pc.hardware',\n",
       " 'comp.sys.mac.hardware',\n",
       " 'rec.sport.baseball',\n",
       " 'soc.religion.christian',\n",
       " 'rec.sport.baseball',\n",
       " 'comp.sys.ibm.pc.hardware',\n",
       " 'misc.forsale',\n",
       " 'rec.motorcycles',\n",
       " 'talk.politics.misc',\n",
       " 'comp.os.ms-windows.misc',\n",
       " 'sci.electronics',\n",
       " 'sci.crypt',\n",
       " 'rec.autos',\n",
       " 'comp.sys.ibm.pc.hardware',\n",
       " 'soc.religion.christian',\n",
       " 'rec.motorcycles',\n",
       " 'comp.sys.mac.hardware',\n",
       " 'rec.motorcycles',\n",
       " 'comp.os.ms-windows.misc',\n",
       " 'sci.crypt',\n",
       " 'comp.sys.ibm.pc.hardware',\n",
       " 'comp.graphics',\n",
       " 'sci.space',\n",
       " 'talk.religion.misc',\n",
       " 'sci.crypt',\n",
       " 'rec.sport.hockey',\n",
       " 'comp.sys.ibm.pc.hardware',\n",
       " 'sci.electronics',\n",
       " 'sci.crypt',\n",
       " 'comp.windows.x',\n",
       " 'sci.electronics',\n",
       " 'rec.autos',\n",
       " 'rec.sport.hockey',\n",
       " 'alt.atheism',\n",
       " 'comp.windows.x',\n",
       " 'comp.sys.ibm.pc.hardware',\n",
       " 'comp.graphics',\n",
       " 'rec.sport.hockey',\n",
       " 'soc.religion.christian',\n",
       " 'comp.graphics',\n",
       " 'rec.sport.baseball',\n",
       " 'alt.atheism',\n",
       " 'soc.religion.christian',\n",
       " 'comp.graphics',\n",
       " 'alt.atheism',\n",
       " 'sci.electronics',\n",
       " 'comp.os.ms-windows.misc',\n",
       " 'soc.religion.christian',\n",
       " 'sci.crypt',\n",
       " 'comp.graphics',\n",
       " 'rec.autos',\n",
       " 'sci.space',\n",
       " 'talk.politics.misc',\n",
       " 'comp.sys.ibm.pc.hardware',\n",
       " 'comp.sys.mac.hardware',\n",
       " 'rec.sport.baseball',\n",
       " 'sci.med',\n",
       " 'comp.sys.ibm.pc.hardware',\n",
       " 'alt.atheism',\n",
       " 'sci.space',\n",
       " 'misc.forsale',\n",
       " 'sci.crypt',\n",
       " 'talk.politics.misc',\n",
       " 'comp.sys.mac.hardware',\n",
       " 'talk.politics.guns',\n",
       " 'soc.religion.christian',\n",
       " 'sci.space',\n",
       " 'comp.windows.x',\n",
       " 'rec.sport.hockey',\n",
       " 'soc.religion.christian',\n",
       " 'talk.politics.mideast',\n",
       " 'talk.politics.guns',\n",
       " 'rec.sport.hockey',\n",
       " 'comp.windows.x',\n",
       " 'sci.electronics',\n",
       " 'comp.sys.mac.hardware',\n",
       " 'rec.autos',\n",
       " 'misc.forsale',\n",
       " 'misc.forsale',\n",
       " 'sci.med',\n",
       " 'talk.religion.misc',\n",
       " 'soc.religion.christian',\n",
       " 'talk.politics.guns',\n",
       " 'talk.politics.misc',\n",
       " 'comp.sys.mac.hardware',\n",
       " 'comp.sys.mac.hardware',\n",
       " 'comp.sys.mac.hardware',\n",
       " 'comp.sys.ibm.pc.hardware',\n",
       " 'sci.med',\n",
       " 'comp.sys.mac.hardware',\n",
       " 'rec.sport.hockey',\n",
       " 'comp.windows.x',\n",
       " 'sci.med',\n",
       " 'alt.atheism',\n",
       " 'comp.graphics',\n",
       " 'comp.sys.ibm.pc.hardware',\n",
       " 'alt.atheism',\n",
       " 'talk.religion.misc',\n",
       " 'soc.religion.christian',\n",
       " 'alt.atheism',\n",
       " 'alt.atheism',\n",
       " 'rec.autos',\n",
       " 'sci.space',\n",
       " 'sci.med',\n",
       " 'sci.electronics',\n",
       " 'sci.space',\n",
       " 'comp.os.ms-windows.misc',\n",
       " 'talk.religion.misc',\n",
       " 'comp.windows.x',\n",
       " 'sci.crypt',\n",
       " 'sci.space',\n",
       " 'rec.sport.baseball',\n",
       " 'sci.crypt',\n",
       " 'rec.sport.baseball',\n",
       " 'sci.space',\n",
       " 'soc.religion.christian',\n",
       " 'rec.motorcycles',\n",
       " 'sci.electronics',\n",
       " 'sci.space',\n",
       " 'talk.politics.mideast',\n",
       " 'sci.space',\n",
       " 'talk.politics.mideast',\n",
       " 'sci.med',\n",
       " 'talk.politics.guns',\n",
       " 'comp.os.ms-windows.misc',\n",
       " 'soc.religion.christian',\n",
       " 'comp.graphics',\n",
       " 'comp.windows.x',\n",
       " 'misc.forsale',\n",
       " 'rec.autos',\n",
       " 'talk.religion.misc',\n",
       " 'alt.atheism',\n",
       " 'comp.os.ms-windows.misc',\n",
       " 'rec.motorcycles',\n",
       " 'talk.politics.mideast',\n",
       " 'comp.sys.mac.hardware',\n",
       " 'rec.motorcycles',\n",
       " 'rec.sport.hockey',\n",
       " 'comp.sys.ibm.pc.hardware',\n",
       " 'comp.os.ms-windows.misc',\n",
       " 'sci.crypt',\n",
       " 'comp.os.ms-windows.misc',\n",
       " 'rec.sport.baseball',\n",
       " 'rec.sport.baseball',\n",
       " 'comp.windows.x',\n",
       " 'comp.windows.x',\n",
       " 'comp.sys.mac.hardware',\n",
       " 'comp.sys.ibm.pc.hardware',\n",
       " 'talk.politics.mideast',\n",
       " 'rec.motorcycles',\n",
       " 'rec.sport.hockey',\n",
       " 'comp.windows.x',\n",
       " 'comp.sys.ibm.pc.hardware',\n",
       " 'comp.windows.x',\n",
       " 'comp.windows.x',\n",
       " 'talk.religion.misc',\n",
       " 'misc.forsale',\n",
       " 'talk.politics.mideast',\n",
       " 'comp.sys.mac.hardware',\n",
       " 'talk.religion.misc',\n",
       " 'rec.sport.baseball',\n",
       " 'comp.graphics',\n",
       " 'comp.graphics',\n",
       " 'comp.graphics',\n",
       " 'comp.graphics',\n",
       " 'soc.religion.christian',\n",
       " 'sci.crypt',\n",
       " 'comp.windows.x',\n",
       " 'rec.motorcycles',\n",
       " 'comp.sys.mac.hardware',\n",
       " 'sci.med',\n",
       " 'rec.sport.hockey',\n",
       " 'rec.autos',\n",
       " 'comp.sys.mac.hardware',\n",
       " 'alt.atheism',\n",
       " 'rec.sport.hockey',\n",
       " 'comp.windows.x',\n",
       " 'soc.religion.christian',\n",
       " 'alt.atheism',\n",
       " 'rec.sport.baseball',\n",
       " 'alt.atheism',\n",
       " 'comp.sys.mac.hardware',\n",
       " 'sci.electronics',\n",
       " 'comp.os.ms-windows.misc',\n",
       " 'rec.sport.baseball',\n",
       " 'rec.motorcycles',\n",
       " 'comp.sys.mac.hardware',\n",
       " 'sci.electronics',\n",
       " 'rec.sport.hockey',\n",
       " 'comp.windows.x',\n",
       " 'talk.politics.guns',\n",
       " 'rec.motorcycles',\n",
       " 'rec.sport.hockey',\n",
       " 'misc.forsale',\n",
       " 'comp.os.ms-windows.misc',\n",
       " 'rec.sport.baseball',\n",
       " 'comp.sys.mac.hardware',\n",
       " 'comp.windows.x',\n",
       " 'sci.electronics',\n",
       " 'alt.atheism',\n",
       " 'talk.religion.misc',\n",
       " 'comp.sys.mac.hardware',\n",
       " 'comp.os.ms-windows.misc',\n",
       " 'talk.politics.mideast',\n",
       " 'rec.sport.baseball',\n",
       " 'sci.med',\n",
       " 'misc.forsale',\n",
       " 'comp.sys.ibm.pc.hardware',\n",
       " 'talk.politics.mideast',\n",
       " 'sci.med',\n",
       " 'comp.os.ms-windows.misc',\n",
       " 'sci.electronics',\n",
       " ...]"
      ]
     },
     "execution_count": 4,
     "metadata": {},
     "output_type": "execute_result"
    }
   ],
   "source": [
    "classes"
   ]
  },
  {
   "cell_type": "code",
   "execution_count": 5,
   "id": "b724971f-cc3d-423a-a002-6ec3ea4fa591",
   "metadata": {
    "collapsed": true,
    "jupyter": {
     "outputs_hidden": true
    },
    "tags": []
   },
   "outputs": [
    {
     "data": {
      "application/vnd.jupyter.widget-view+json": {
       "model_id": "d649932f0e34458f8a6960faf61d6db0",
       "version_major": 2,
       "version_minor": 0
      },
      "text/plain": [
       "Downloading (…)e9125/.gitattributes:   0%|          | 0.00/1.18k [00:00<?, ?B/s]"
      ]
     },
     "metadata": {},
     "output_type": "display_data"
    },
    {
     "data": {
      "application/vnd.jupyter.widget-view+json": {
       "model_id": "7aa3b8d27813474aa8fbe02db4798cf9",
       "version_major": 2,
       "version_minor": 0
      },
      "text/plain": [
       "Downloading (…)_Pooling/config.json:   0%|          | 0.00/190 [00:00<?, ?B/s]"
      ]
     },
     "metadata": {},
     "output_type": "display_data"
    },
    {
     "data": {
      "application/vnd.jupyter.widget-view+json": {
       "model_id": "4967d4b2429645a69e98b08197d655b3",
       "version_major": 2,
       "version_minor": 0
      },
      "text/plain": [
       "Downloading (…)7e55de9125/README.md:   0%|          | 0.00/10.6k [00:00<?, ?B/s]"
      ]
     },
     "metadata": {},
     "output_type": "display_data"
    },
    {
     "data": {
      "application/vnd.jupyter.widget-view+json": {
       "model_id": "007d47af7c78475cb7a4b3dfe1c9255e",
       "version_major": 2,
       "version_minor": 0
      },
      "text/plain": [
       "Downloading (…)55de9125/config.json:   0%|          | 0.00/612 [00:00<?, ?B/s]"
      ]
     },
     "metadata": {},
     "output_type": "display_data"
    },
    {
     "data": {
      "application/vnd.jupyter.widget-view+json": {
       "model_id": "a4294f0bb5cd41368dc97b584b7353a5",
       "version_major": 2,
       "version_minor": 0
      },
      "text/plain": [
       "Downloading (…)ce_transformers.json:   0%|          | 0.00/116 [00:00<?, ?B/s]"
      ]
     },
     "metadata": {},
     "output_type": "display_data"
    },
    {
     "data": {
      "application/vnd.jupyter.widget-view+json": {
       "model_id": "ff1e58b3538d4819945a8c6e69db7486",
       "version_major": 2,
       "version_minor": 0
      },
      "text/plain": [
       "Downloading (…)125/data_config.json:   0%|          | 0.00/39.3k [00:00<?, ?B/s]"
      ]
     },
     "metadata": {},
     "output_type": "display_data"
    },
    {
     "data": {
      "application/vnd.jupyter.widget-view+json": {
       "model_id": "fff7f20a9c8d4d90845a490c47d6050c",
       "version_major": 2,
       "version_minor": 0
      },
      "text/plain": [
       "Downloading pytorch_model.bin:   0%|          | 0.00/90.9M [00:00<?, ?B/s]"
      ]
     },
     "metadata": {},
     "output_type": "display_data"
    },
    {
     "data": {
      "application/vnd.jupyter.widget-view+json": {
       "model_id": "dbe0c72749254bb98cd569e1fe317781",
       "version_major": 2,
       "version_minor": 0
      },
      "text/plain": [
       "Downloading (…)nce_bert_config.json:   0%|          | 0.00/53.0 [00:00<?, ?B/s]"
      ]
     },
     "metadata": {},
     "output_type": "display_data"
    },
    {
     "data": {
      "application/vnd.jupyter.widget-view+json": {
       "model_id": "2c824dd05a464b658f7ac233166c1bed",
       "version_major": 2,
       "version_minor": 0
      },
      "text/plain": [
       "Downloading (…)cial_tokens_map.json:   0%|          | 0.00/112 [00:00<?, ?B/s]"
      ]
     },
     "metadata": {},
     "output_type": "display_data"
    },
    {
     "data": {
      "application/vnd.jupyter.widget-view+json": {
       "model_id": "5eb3de6513ea4e6380469e1ba1d901b6",
       "version_major": 2,
       "version_minor": 0
      },
      "text/plain": [
       "Downloading (…)e9125/tokenizer.json:   0%|          | 0.00/466k [00:00<?, ?B/s]"
      ]
     },
     "metadata": {},
     "output_type": "display_data"
    },
    {
     "data": {
      "application/vnd.jupyter.widget-view+json": {
       "model_id": "f7463fd5233b4810ab883dd0d8ccad13",
       "version_major": 2,
       "version_minor": 0
      },
      "text/plain": [
       "Downloading (…)okenizer_config.json:   0%|          | 0.00/350 [00:00<?, ?B/s]"
      ]
     },
     "metadata": {},
     "output_type": "display_data"
    },
    {
     "data": {
      "application/vnd.jupyter.widget-view+json": {
       "model_id": "0848e899427c42a2aafec8f71110c0f8",
       "version_major": 2,
       "version_minor": 0
      },
      "text/plain": [
       "Downloading (…)9125/train_script.py:   0%|          | 0.00/13.2k [00:00<?, ?B/s]"
      ]
     },
     "metadata": {},
     "output_type": "display_data"
    },
    {
     "data": {
      "application/vnd.jupyter.widget-view+json": {
       "model_id": "bc0c4d3f07034ba68227eb7976310e47",
       "version_major": 2,
       "version_minor": 0
      },
      "text/plain": [
       "Downloading (…)7e55de9125/vocab.txt:   0%|          | 0.00/232k [00:00<?, ?B/s]"
      ]
     },
     "metadata": {},
     "output_type": "display_data"
    },
    {
     "data": {
      "application/vnd.jupyter.widget-view+json": {
       "model_id": "838e091f02dc4dae913192eb10e38599",
       "version_major": 2,
       "version_minor": 0
      },
      "text/plain": [
       "Downloading (…)5de9125/modules.json:   0%|          | 0.00/349 [00:00<?, ?B/s]"
      ]
     },
     "metadata": {},
     "output_type": "display_data"
    },
    {
     "data": {
      "application/vnd.jupyter.widget-view+json": {
       "model_id": "2ff0f0df4e4047999dc597ba80b57c15",
       "version_major": 2,
       "version_minor": 0
      },
      "text/plain": [
       "Batches:   0%|          | 0/589 [00:00<?, ?it/s]"
      ]
     },
     "metadata": {},
     "output_type": "display_data"
    },
    {
     "name": "stderr",
     "output_type": "stream",
     "text": [
      "2023-09-27 16:58:01,087 - BERTopic - Transformed documents to Embeddings\n",
      "OMP: Info #276: omp_set_nested routine deprecated, please use omp_set_max_active_levels instead.\n",
      "2023-09-27 16:58:13,914 - BERTopic - Reduced dimensionality\n"
     ]
    },
    {
     "name": "stdout",
     "output_type": "stream",
     "text": [
      "huggingface/tokenizers: The current process just got forked, after parallelism has already been used. Disabling parallelism to avoid deadlocks...\n",
      "To disable this warning, you can either:\n",
      "\t- Avoid using `tokenizers` before the fork if possible\n",
      "\t- Explicitly set the environment variable TOKENIZERS_PARALLELISM=(true | false)\n",
      "huggingface/tokenizers: The current process just got forked, after parallelism has already been used. Disabling parallelism to avoid deadlocks...\n",
      "To disable this warning, you can either:\n",
      "\t- Avoid using `tokenizers` before the fork if possible\n",
      "\t- Explicitly set the environment variable TOKENIZERS_PARALLELISM=(true | false)\n",
      "huggingface/tokenizers: The current process just got forked, after parallelism has already been used. Disabling parallelism to avoid deadlocks...\n",
      "To disable this warning, you can either:\n",
      "\t- Avoid using `tokenizers` before the fork if possible\n",
      "\t- Explicitly set the environment variable TOKENIZERS_PARALLELISM=(true | false)\n",
      "huggingface/tokenizers: The current process just got forked, after parallelism has already been used. Disabling parallelism to avoid deadlocks...\n",
      "To disable this warning, you can either:\n",
      "\t- Avoid using `tokenizers` before the fork if possible\n",
      "\t- Explicitly set the environment variable TOKENIZERS_PARALLELISM=(true | false)\n",
      "huggingface/tokenizers: The current process just got forked, after parallelism has already been used. Disabling parallelism to avoid deadlocks...\n",
      "To disable this warning, you can either:\n",
      "\t- Avoid using `tokenizers` before the fork if possible\n",
      "\t- Explicitly set the environment variable TOKENIZERS_PARALLELISM=(true | false)\n"
     ]
    },
    {
     "name": "stderr",
     "output_type": "stream",
     "text": [
      "2023-09-27 16:58:14,780 - BERTopic - Clustered reduced embeddings\n"
     ]
    }
   ],
   "source": [
    "topic_model = BERTopic(verbose=True)\n",
    "topics, _ = topic_model.fit_transform(docs)"
   ]
  },
  {
   "cell_type": "code",
   "execution_count": 6,
   "id": "a342930d-cf8c-4921-86e9-4f5736d8b41f",
   "metadata": {
    "tags": []
   },
   "outputs": [
    {
     "data": {
      "text/html": [
       "<div>\n",
       "<style scoped>\n",
       "    .dataframe tbody tr th:only-of-type {\n",
       "        vertical-align: middle;\n",
       "    }\n",
       "\n",
       "    .dataframe tbody tr th {\n",
       "        vertical-align: top;\n",
       "    }\n",
       "\n",
       "    .dataframe thead th {\n",
       "        text-align: right;\n",
       "    }\n",
       "</style>\n",
       "<table border=\"1\" class=\"dataframe\">\n",
       "  <thead>\n",
       "    <tr style=\"text-align: right;\">\n",
       "      <th></th>\n",
       "      <th>Topic</th>\n",
       "      <th>Count</th>\n",
       "      <th>Name</th>\n",
       "      <th>Representation</th>\n",
       "      <th>Representative_Docs</th>\n",
       "    </tr>\n",
       "  </thead>\n",
       "  <tbody>\n",
       "    <tr>\n",
       "      <th>0</th>\n",
       "      <td>-1</td>\n",
       "      <td>6879</td>\n",
       "      <td>-1_to_the_and_of</td>\n",
       "      <td>[to, the, and, of, is, in, it, for, you, that]</td>\n",
       "      <td>[\\n\\n*nnnnnnnng* Thank you for playing, I cann...</td>\n",
       "    </tr>\n",
       "    <tr>\n",
       "      <th>1</th>\n",
       "      <td>0</td>\n",
       "      <td>1831</td>\n",
       "      <td>0_game_team_games_he</td>\n",
       "      <td>[game, team, games, he, players, season, hocke...</td>\n",
       "      <td>[The FLYERS blew a 3-0 lead over the Buffalo S...</td>\n",
       "    </tr>\n",
       "    <tr>\n",
       "      <th>2</th>\n",
       "      <td>1</td>\n",
       "      <td>590</td>\n",
       "      <td>1_key_clipper_chip_encryption</td>\n",
       "      <td>[key, clipper, chip, encryption, keys, escrow,...</td>\n",
       "      <td>[\\nI am not an expert in the cryptography scie...</td>\n",
       "    </tr>\n",
       "    <tr>\n",
       "      <th>3</th>\n",
       "      <td>2</td>\n",
       "      <td>528</td>\n",
       "      <td>2_idjits_ites_cheek_dancing</td>\n",
       "      <td>[idjits, ites, cheek, dancing, yep, huh, ken, ...</td>\n",
       "      <td>[Ken\\n, \\n \\n                                 ...</td>\n",
       "    </tr>\n",
       "    <tr>\n",
       "      <th>4</th>\n",
       "      <td>3</td>\n",
       "      <td>453</td>\n",
       "      <td>3_israel_israeli_jews_arab</td>\n",
       "      <td>[israel, israeli, jews, arab, arabs, jewish, p...</td>\n",
       "      <td>[\\nThis a \"tried and true\" method utilized by ...</td>\n",
       "    </tr>\n",
       "    <tr>\n",
       "      <th>5</th>\n",
       "      <td>4</td>\n",
       "      <td>284</td>\n",
       "      <td>4_health_newsgroup_cancer_list</td>\n",
       "      <td>[health, newsgroup, cancer, list, email, disea...</td>\n",
       "      <td>[*********************************************...</td>\n",
       "    </tr>\n",
       "    <tr>\n",
       "      <th>6</th>\n",
       "      <td>5</td>\n",
       "      <td>206</td>\n",
       "      <td>5_xterm_error_x11r5_server</td>\n",
       "      <td>[xterm, error, x11r5, server, xdm, symbol, sun...</td>\n",
       "      <td>[After having OpenWindows \\n(Version 3 for Sun...</td>\n",
       "    </tr>\n",
       "    <tr>\n",
       "      <th>7</th>\n",
       "      <td>6</td>\n",
       "      <td>203</td>\n",
       "      <td>6_god_atheists_atheism_atheist</td>\n",
       "      <td>[god, atheists, atheism, atheist, exist, faith...</td>\n",
       "      <td>[\\nNo smiley on the part about atheism, I see....</td>\n",
       "    </tr>\n",
       "    <tr>\n",
       "      <th>8</th>\n",
       "      <td>7</td>\n",
       "      <td>179</td>\n",
       "      <td>7_car_cars_ford_mustang</td>\n",
       "      <td>[car, cars, ford, mustang, engine, v8, v6, wag...</td>\n",
       "      <td>[\\n\\n\\n\\nYou know, I'm a Ford fan, I must say,...</td>\n",
       "    </tr>\n",
       "    <tr>\n",
       "      <th>9</th>\n",
       "      <td>8</td>\n",
       "      <td>161</td>\n",
       "      <td>8_bike_tires_tire_bikes</td>\n",
       "      <td>[bike, tires, tire, bikes, miles, rear, fluids...</td>\n",
       "      <td>[: I am in the market for a bike and have rece...</td>\n",
       "    </tr>\n",
       "  </tbody>\n",
       "</table>\n",
       "</div>"
      ],
      "text/plain": [
       "   Topic  Count                            Name  \\\n",
       "0     -1   6879                -1_to_the_and_of   \n",
       "1      0   1831            0_game_team_games_he   \n",
       "2      1    590   1_key_clipper_chip_encryption   \n",
       "3      2    528     2_idjits_ites_cheek_dancing   \n",
       "4      3    453      3_israel_israeli_jews_arab   \n",
       "5      4    284  4_health_newsgroup_cancer_list   \n",
       "6      5    206      5_xterm_error_x11r5_server   \n",
       "7      6    203  6_god_atheists_atheism_atheist   \n",
       "8      7    179         7_car_cars_ford_mustang   \n",
       "9      8    161         8_bike_tires_tire_bikes   \n",
       "\n",
       "                                      Representation  \\\n",
       "0     [to, the, and, of, is, in, it, for, you, that]   \n",
       "1  [game, team, games, he, players, season, hocke...   \n",
       "2  [key, clipper, chip, encryption, keys, escrow,...   \n",
       "3  [idjits, ites, cheek, dancing, yep, huh, ken, ...   \n",
       "4  [israel, israeli, jews, arab, arabs, jewish, p...   \n",
       "5  [health, newsgroup, cancer, list, email, disea...   \n",
       "6  [xterm, error, x11r5, server, xdm, symbol, sun...   \n",
       "7  [god, atheists, atheism, atheist, exist, faith...   \n",
       "8  [car, cars, ford, mustang, engine, v8, v6, wag...   \n",
       "9  [bike, tires, tire, bikes, miles, rear, fluids...   \n",
       "\n",
       "                                 Representative_Docs  \n",
       "0  [\\n\\n*nnnnnnnng* Thank you for playing, I cann...  \n",
       "1  [The FLYERS blew a 3-0 lead over the Buffalo S...  \n",
       "2  [\\nI am not an expert in the cryptography scie...  \n",
       "3  [Ken\\n, \\n \\n                                 ...  \n",
       "4  [\\nThis a \"tried and true\" method utilized by ...  \n",
       "5  [*********************************************...  \n",
       "6  [After having OpenWindows \\n(Version 3 for Sun...  \n",
       "7  [\\nNo smiley on the part about atheism, I see....  \n",
       "8  [\\n\\n\\n\\nYou know, I'm a Ford fan, I must say,...  \n",
       "9  [: I am in the market for a bike and have rece...  "
      ]
     },
     "execution_count": 6,
     "metadata": {},
     "output_type": "execute_result"
    }
   ],
   "source": [
    "topic_model.get_topic_info().head(10)"
   ]
  },
  {
   "cell_type": "code",
   "execution_count": 10,
   "id": "0b888635-587d-4b15-95f7-a46d4a871226",
   "metadata": {
    "collapsed": true,
    "jupyter": {
     "outputs_hidden": true
    },
    "tags": []
   },
   "outputs": [
    {
     "name": "stderr",
     "output_type": "stream",
     "text": [
      "20it [00:02,  8.50it/s]\n"
     ]
    },
    {
     "data": {
      "application/vnd.plotly.v1+json": {
       "config": {
        "plotlyServerURL": "https://plot.ly"
       },
       "data": [
        {
         "hoverinfo": "text",
         "hovertext": [
          "<b>Topic 0</b><br>Words: jcssageccpurdueedu, stalnaker, oooo, pureesageccjcs, ernest",
          "<b>Topic 0</b><br>Words: quinea, papua, translation, buying, seriously",
          "<b>Topic 0</b><br>Words: jets, phill, ratings, bianchi, addresss",
          "<b>Topic 0</b><br>Words: tickets, ticket, contains, airlines, airline",
          "<b>Topic 0</b><br>Words: game, team, hockey, games, 25",
          "<b>Topic 0</b><br>Words: station, clementine, song, dcx1, unscheduled",
          "<b>Topic 0</b><br>Words: dominant, dominance, cross, eye, study",
          "<b>Topic 0</b><br>Words: embalmer, it175, umanitoba, jorg, gsxr1100",
          "<b>Topic 0</b><br>Words: ticket, v4, v5, allegation, magnitude",
          "<b>Topic 0</b><br>Words: sturm, doug, familiar, anyone, with",
          "<b>Topic 0</b><br>Words: prisoners, sections, stones, pitchers, anon15031anonpenetfi",
          "<b>Topic 0</b><br>Words: game, team, he, games, year",
          "<b>Topic 0</b><br>Words: chrysler, chorus, dollar, sf, buffs",
          "<b>Topic 0</b><br>Words: conner, beautiful, bravo, bill, johnson",
          "<b>Topic 0</b><br>Words: soccer, conference, philcmacseemcgillca, chicago, 45th"
         ],
         "marker": {
          "color": "#E69F00"
         },
         "name": "0_game_team_games_he",
         "orientation": "h",
         "type": "bar",
         "visible": true,
         "x": [
          1,
          1,
          5,
          24,
          907,
          4,
          3,
          9,
          2,
          1,
          6,
          858,
          5,
          2,
          3
         ],
         "y": [
          "comp.sys.mac.hardware",
          "comp.sys.ibm.pc.hardware",
          "talk.politics.guns",
          "misc.forsale",
          "rec.sport.hockey",
          "sci.space",
          "sci.med",
          "rec.motorcycles",
          "sci.crypt",
          "soc.religion.christian",
          "talk.politics.mideast",
          "rec.sport.baseball",
          "talk.politics.misc",
          "alt.atheism",
          "sci.electronics"
         ]
        },
        {
         "hoverinfo": "text",
         "hovertext": [
          "<b>Topic 1</b><br>Words: sequences, parser, esc, dsc, compliant",
          "<b>Topic 1</b><br>Words: rewards, info, npr, secure, public",
          "<b>Topic 1</b><br>Words: typos, hooks, greetings, al, clipper",
          "<b>Topic 1</b><br>Words: prizms, lterature, lloking, lsi, geos",
          "<b>Topic 1</b><br>Words: publish, scoriates, conically, intelliegence, moeny",
          "<b>Topic 1</b><br>Words: ssn, whoa, smoking, foods, eh",
          "<b>Topic 1</b><br>Words: key, clipper, chip, encryption, keys",
          "<b>Topic 1</b><br>Words: monitoring, ish, igcs, tienanmien, balkanmideast",
          "<b>Topic 1</b><br>Words: heisenberg, berg, mlb, npr, mccarthy",
          "<b>Topic 1</b><br>Words: initiative, wiretapping, ho, urge, clintons",
          "<b>Topic 1</b><br>Words: keys, mathew, broadcasting, impropriety, government",
          "<b>Topic 1</b><br>Words: key, cityanytown, namejoe, address123, keyldslfoialsdkcdsngsikhsfd",
          "<b>Topic 1</b><br>Words: kgbatf, cote, right, defending, he"
         ],
         "marker": {
          "color": "#56B4E9"
         },
         "name": "1_key_clipper_chip_encryption",
         "orientation": "h",
         "type": "bar",
         "visible": "legendonly",
         "x": [
          1,
          4,
          1,
          1,
          2,
          1,
          565,
          2,
          1,
          5,
          3,
          3,
          1
         ],
         "y": [
          "comp.windows.x",
          "talk.politics.guns",
          "misc.forsale",
          "rec.autos",
          "sci.space",
          "sci.med",
          "sci.crypt",
          "talk.politics.mideast",
          "rec.sport.baseball",
          "talk.politics.misc",
          "alt.atheism",
          "sci.electronics",
          "talk.religion.misc"
         ]
        },
        {
         "hoverinfo": "text",
         "hovertext": [
          "<b>Topic 2</b><br>Words: idjits, ites, cheek, dancing, yep",
          "<b>Topic 2</b><br>Words: each, idjits, ites, cheek, dancing",
          "<b>Topic 2</b><br>Words: idjits, ites, cheek, dancing, yep",
          "<b>Topic 2</b><br>Words: idjits, ites, cheek, dancing, yep",
          "<b>Topic 2</b><br>Words: ken, idjits, ites, cheek, dancing",
          "<b>Topic 2</b><br>Words: idjits, ites, cheek, dancing, yep",
          "<b>Topic 2</b><br>Words: ites, cheek, 15, idjits, dancing",
          "<b>Topic 2</b><br>Words: idjits, ites, cheek, dancing, yep",
          "<b>Topic 2</b><br>Words: idjits, ites, cheek, dancing, yep",
          "<b>Topic 2</b><br>Words: idjits, ites, cheek, dancing, yep",
          "<b>Topic 2</b><br>Words: idjits, ites, cheek, dancing, yep",
          "<b>Topic 2</b><br>Words: idjits, dancing, yep, huh, ignore",
          "<b>Topic 2</b><br>Words: idjits, ites, cheek, dancing, yep",
          "<b>Topic 2</b><br>Words: idjits, ites, cheek, dancing, yep",
          "<b>Topic 2</b><br>Words: idjits, ites, cheek, dancing, yep",
          "<b>Topic 2</b><br>Words: why, idjits, ites, cheek, dancing",
          "<b>Topic 2</b><br>Words: idjits, ites, cheek, dancing, yep",
          "<b>Topic 2</b><br>Words: idjits, ites, cheek, dancing, yep",
          "<b>Topic 2</b><br>Words: idjits, ites, cheek, dancing, yep",
          "<b>Topic 2</b><br>Words: idjits, ites, cheek, dancing, yep"
         ],
         "marker": {
          "color": "#009E73"
         },
         "name": "2_idjits_ites_cheek_dancing",
         "orientation": "h",
         "type": "bar",
         "visible": "legendonly",
         "x": [
          6,
          35,
          18,
          24,
          17,
          25,
          56,
          32,
          30,
          38,
          18,
          31,
          29,
          22,
          21,
          38,
          19,
          20,
          26,
          23
         ],
         "y": [
          "comp.windows.x",
          "comp.sys.mac.hardware",
          "comp.sys.ibm.pc.hardware",
          "talk.politics.guns",
          "misc.forsale",
          "rec.sport.hockey",
          "rec.autos",
          "sci.space",
          "sci.med",
          "comp.os.ms-windows.misc",
          "comp.graphics",
          "rec.motorcycles",
          "sci.crypt",
          "soc.religion.christian",
          "talk.politics.mideast",
          "rec.sport.baseball",
          "talk.politics.misc",
          "alt.atheism",
          "sci.electronics",
          "talk.religion.misc"
         ]
        },
        {
         "hoverinfo": "text",
         "hovertext": [
          "<b>Topic 3</b><br>Words: nazi, dodd, law, gca, jpfo",
          "<b>Topic 3</b><br>Words: skirmish, wasting, bandwidth, occurred, referring",
          "<b>Topic 3</b><br>Words: jp, scratching, nz, kr, scum",
          "<b>Topic 3</b><br>Words: jewish, proselytism, speak, jews, dinner",
          "<b>Topic 3</b><br>Words: israel, israeli, jews, arab, arabs",
          "<b>Topic 3</b><br>Words: mutually, polish, exclusive, jewish, not",
          "<b>Topic 3</b><br>Words: hitler, nazis, limbaugh, chancellor, party",
          "<b>Topic 3</b><br>Words: jews, bombing, israel, antisemitism, civilians",
          "<b>Topic 3</b><br>Words: intermediate, sockets, skip, bandwidth, hitler",
          "<b>Topic 3</b><br>Words: nazis, homosexuality, jews, roehm, christian"
         ],
         "marker": {
          "color": "#F0E442"
         },
         "name": "3_israel_israeli_jews_arab",
         "orientation": "h",
         "type": "bar",
         "visible": "legendonly",
         "x": [
          5,
          1,
          2,
          4,
          404,
          1,
          8,
          15,
          1,
          12
         ],
         "y": [
          "talk.politics.guns",
          "rec.sport.hockey",
          "rec.autos",
          "soc.religion.christian",
          "talk.politics.mideast",
          "rec.sport.baseball",
          "talk.politics.misc",
          "alt.atheism",
          "sci.electronics",
          "talk.religion.misc"
         ]
        },
        {
         "hoverinfo": "text",
         "hovertext": [
          "<b>Topic 4</b><br>Words: sco, mailing, subscribe, list, newsgroups",
          "<b>Topic 4</b><br>Words: nutek, address, caere, kelley, unlockfolder",
          "<b>Topic 4</b><br>Words: vote, voting, votes, publishing, unmoderated",
          "<b>Topic 4</b><br>Words: petenholonetnet, c601edcd6cpqhousehoucompaqcom, petenwellsfcaus, nortonhouamococom, thomasrcpqhousehoucompaqcom",
          "<b>Topic 4</b><br>Words: inguiry, computerforsale, addresser1eridanchuvashiasu, mailings, call",
          "<b>Topic 4</b><br>Words: 1993apr2121103812363newshubistsca, rocketcalvincsunbca, 131202310, dchhabrastplistsca, dotted",
          "<b>Topic 4</b><br>Words: requests, send, recautos, list, mailing",
          "<b>Topic 4</b><br>Words: scispace, posts, space, list, email",
          "<b>Topic 4</b><br>Words: health, cancer, disease, tobacco, medical",
          "<b>Topic 4</b><br>Words: access, bitmaps, newsgroup, rdbms, wysiwyg",
          "<b>Topic 4</b><br>Words: liefting, group, newsgroup, turkey, aspects",
          "<b>Topic 4</b><br>Words: mail, motoheadcscoloradoedu, panties, 725173356compuservecom, listservfriggiscbrcom",
          "<b>Topic 4</b><br>Words: 8546889, tisdom, tiscom, jedpolluxuscedu, walkertiscom",
          "<b>Topic 4</b><br>Words: ahmadiyya, votes, newsgroup, vote, religions",
          "<b>Topic 4</b><br>Words: cosar, mailbox, ahmet, c705, 6123767873",
          "<b>Topic 4</b><br>Words: mailing, list, cardinals, email, address",
          "<b>Topic 4</b><br>Words: agrevates, brandon, bashing, informative, fools",
          "<b>Topic 4</b><br>Words: deleted, add, jsn104, toughto, dkoreshbranchdavidiancompoundwacotxus",
          "<b>Topic 4</b><br>Words: pdt, andymacraecorpsuncom, yxy4145usledu, apr, newsgroup",
          "<b>Topic 4</b><br>Words: holladay, compuservecom, 721051351compuservecom, 171194, 841171194"
         ],
         "marker": {
          "color": "#D55E00"
         },
         "name": "4_health_newsgroup_cancer_list",
         "orientation": "h",
         "type": "bar",
         "visible": "legendonly",
         "x": [
          33,
          8,
          9,
          3,
          14,
          5,
          16,
          20,
          21,
          28,
          35,
          9,
          9,
          12,
          9,
          16,
          3,
          10,
          17,
          7
         ],
         "y": [
          "comp.windows.x",
          "comp.sys.mac.hardware",
          "comp.sys.ibm.pc.hardware",
          "talk.politics.guns",
          "misc.forsale",
          "rec.sport.hockey",
          "rec.autos",
          "sci.space",
          "sci.med",
          "comp.os.ms-windows.misc",
          "comp.graphics",
          "rec.motorcycles",
          "sci.crypt",
          "soc.religion.christian",
          "talk.politics.mideast",
          "rec.sport.baseball",
          "talk.politics.misc",
          "alt.atheism",
          "sci.electronics",
          "talk.religion.misc"
         ]
        },
        {
         "hoverinfo": "text",
         "hovertext": [
          "<b>Topic 5</b><br>Words: xterm, error, x11r5, server, xdm",
          "<b>Topic 5</b><br>Words: 6172755800, gcc, handy, tech, number",
          "<b>Topic 5</b><br>Words: gcc, libc, bad, ram, kernel",
          "<b>Topic 5</b><br>Words: bwc, void, const, functions, samename",
          "<b>Topic 5</b><br>Words: sometimes, client, bugs, dogfight, server",
          "<b>Topic 5</b><br>Words: spoofing, josh, marc, commands, described",
          "<b>Topic 5</b><br>Words: ultrix, steve, running, youre, see"
         ],
         "marker": {
          "color": "#0072B2"
         },
         "name": "5_xterm_error_x11r5_server",
         "orientation": "h",
         "type": "bar",
         "visible": "legendonly",
         "x": [
          192,
          1,
          1,
          4,
          6,
          1,
          1
         ],
         "y": [
          "comp.windows.x",
          "comp.sys.mac.hardware",
          "comp.sys.ibm.pc.hardware",
          "comp.os.ms-windows.misc",
          "comp.graphics",
          "sci.crypt",
          "talk.religion.misc"
         ]
        },
        {
         "hoverinfo": "text",
         "hovertext": [
          "<b>Topic 6</b><br>Words: life, formed, planetsterilizing, sterilizing, predate",
          "<b>Topic 6</b><br>Words: agnostic, god, believe, selfproclaimed, atheist",
          "<b>Topic 6</b><br>Words: god, atheists, existence, faith, atheism",
          "<b>Topic 6</b><br>Words: religious, religion, beliefs, religions, produced",
          "<b>Topic 6</b><br>Words: atheists, god, atheism, atheist, argument",
          "<b>Topic 6</b><br>Words: god, atheists, you, science, believe"
         ],
         "marker": {
          "color": "#CC79A7"
         },
         "name": "6_god_atheists_atheism_atheist",
         "orientation": "h",
         "type": "bar",
         "visible": "legendonly",
         "x": [
          1,
          4,
          41,
          3,
          127,
          27
         ],
         "y": [
          "sci.space",
          "sci.med",
          "soc.religion.christian",
          "talk.politics.misc",
          "alt.atheism",
          "talk.religion.misc"
         ]
        },
        {
         "hoverinfo": "text",
         "hovertext": [
          "<b>Topic 7</b><br>Words: 3931216, dinette, cobalt, milano, exsoviet",
          "<b>Topic 7</b><br>Words: car, cars, mustang, ford, engine",
          "<b>Topic 7</b><br>Words: joe, rs71, mippselled, lbj, dubbed",
          "<b>Topic 7</b><br>Words: indiginous, posers, midsized, anemic, volvos",
          "<b>Topic 7</b><br>Words: bulgaria, vesselin, embargo, controls, plenty"
         ],
         "marker": {
          "color": "#E69F00"
         },
         "name": "7_car_cars_ford_mustang",
         "orientation": "h",
         "type": "bar",
         "visible": "legendonly",
         "x": [
          2,
          172,
          2,
          2,
          1
         ],
         "y": [
          "misc.forsale",
          "rec.autos",
          "sci.space",
          "rec.motorcycles",
          "sci.crypt"
         ]
        },
        {
         "hoverinfo": "text",
         "hovertext": [
          "<b>Topic 8</b><br>Words: mower, bike, tires, rear, lawn",
          "<b>Topic 8</b><br>Words: tires, fluids, bike, brake, car",
          "<b>Topic 8</b><br>Words: bike, bikes, miles, tire, tires"
         ],
         "marker": {
          "color": "#56B4E9"
         },
         "name": "8_bike_tires_tire_bikes",
         "orientation": "h",
         "type": "bar",
         "visible": "legendonly",
         "x": [
          12,
          14,
          135
         ],
         "y": [
          "misc.forsale",
          "rec.autos",
          "rec.motorcycles"
         ]
        },
        {
         "hoverinfo": "text",
         "hovertext": [
          "<b>Topic 9</b><br>Words: slick, chances, discussed, kept, direct",
          "<b>Topic 9</b><br>Words: let, rephrasing, shoving, merciful, everyone",
          "<b>Topic 9</b><br>Words: seinfeld, sex, hung, flamboyance, boobs",
          "<b>Topic 9</b><br>Words: fud, jen, advocacy, wheres, preaching",
          "<b>Topic 9</b><br>Words: less, 10, really, think, than",
          "<b>Topic 9</b><br>Words: bunghole, peasized, closeted, wannabe, feeble",
          "<b>Topic 9</b><br>Words: homosexuality, bestiality, sexual, homosexual, gay",
          "<b>Topic 9</b><br>Words: butits, homour, alternative, objections, terrible",
          "<b>Topic 9</b><br>Words: gay, homosexual, sexual, sex, men",
          "<b>Topic 9</b><br>Words: enviroleague, bsa, sex, gay, youth",
          "<b>Topic 9</b><br>Words: gay, caligiuri, gays, sex, exgay"
         ],
         "marker": {
          "color": "#009E73"
         },
         "name": "9_gay_sex_homosexual_sexual",
         "orientation": "h",
         "type": "bar",
         "visible": "legendonly",
         "x": [
          1,
          1,
          2,
          1,
          1,
          1,
          4,
          1,
          129,
          12,
          4
         ],
         "y": [
          "rec.autos",
          "sci.space",
          "sci.med",
          "comp.os.ms-windows.misc",
          "comp.graphics",
          "rec.motorcycles",
          "soc.religion.christian",
          "talk.politics.mideast",
          "talk.politics.misc",
          "alt.atheism",
          "talk.religion.misc"
         ]
        }
       ],
       "layout": {
        "height": 900,
        "hoverlabel": {
         "bgcolor": "white",
         "font": {
          "family": "Rockwell",
          "size": 16
         }
        },
        "legend": {
         "title": {
          "text": "<b>Global Topic Representation"
         }
        },
        "template": {
         "data": {
          "bar": [
           {
            "error_x": {
             "color": "rgb(36,36,36)"
            },
            "error_y": {
             "color": "rgb(36,36,36)"
            },
            "marker": {
             "line": {
              "color": "white",
              "width": 0.5
             },
             "pattern": {
              "fillmode": "overlay",
              "size": 10,
              "solidity": 0.2
             }
            },
            "type": "bar"
           }
          ],
          "barpolar": [
           {
            "marker": {
             "line": {
              "color": "white",
              "width": 0.5
             },
             "pattern": {
              "fillmode": "overlay",
              "size": 10,
              "solidity": 0.2
             }
            },
            "type": "barpolar"
           }
          ],
          "carpet": [
           {
            "aaxis": {
             "endlinecolor": "rgb(36,36,36)",
             "gridcolor": "white",
             "linecolor": "white",
             "minorgridcolor": "white",
             "startlinecolor": "rgb(36,36,36)"
            },
            "baxis": {
             "endlinecolor": "rgb(36,36,36)",
             "gridcolor": "white",
             "linecolor": "white",
             "minorgridcolor": "white",
             "startlinecolor": "rgb(36,36,36)"
            },
            "type": "carpet"
           }
          ],
          "choropleth": [
           {
            "colorbar": {
             "outlinewidth": 1,
             "tickcolor": "rgb(36,36,36)",
             "ticks": "outside"
            },
            "type": "choropleth"
           }
          ],
          "contour": [
           {
            "colorbar": {
             "outlinewidth": 1,
             "tickcolor": "rgb(36,36,36)",
             "ticks": "outside"
            },
            "colorscale": [
             [
              0,
              "#440154"
             ],
             [
              0.1111111111111111,
              "#482878"
             ],
             [
              0.2222222222222222,
              "#3e4989"
             ],
             [
              0.3333333333333333,
              "#31688e"
             ],
             [
              0.4444444444444444,
              "#26828e"
             ],
             [
              0.5555555555555556,
              "#1f9e89"
             ],
             [
              0.6666666666666666,
              "#35b779"
             ],
             [
              0.7777777777777778,
              "#6ece58"
             ],
             [
              0.8888888888888888,
              "#b5de2b"
             ],
             [
              1,
              "#fde725"
             ]
            ],
            "type": "contour"
           }
          ],
          "contourcarpet": [
           {
            "colorbar": {
             "outlinewidth": 1,
             "tickcolor": "rgb(36,36,36)",
             "ticks": "outside"
            },
            "type": "contourcarpet"
           }
          ],
          "heatmap": [
           {
            "colorbar": {
             "outlinewidth": 1,
             "tickcolor": "rgb(36,36,36)",
             "ticks": "outside"
            },
            "colorscale": [
             [
              0,
              "#440154"
             ],
             [
              0.1111111111111111,
              "#482878"
             ],
             [
              0.2222222222222222,
              "#3e4989"
             ],
             [
              0.3333333333333333,
              "#31688e"
             ],
             [
              0.4444444444444444,
              "#26828e"
             ],
             [
              0.5555555555555556,
              "#1f9e89"
             ],
             [
              0.6666666666666666,
              "#35b779"
             ],
             [
              0.7777777777777778,
              "#6ece58"
             ],
             [
              0.8888888888888888,
              "#b5de2b"
             ],
             [
              1,
              "#fde725"
             ]
            ],
            "type": "heatmap"
           }
          ],
          "heatmapgl": [
           {
            "colorbar": {
             "outlinewidth": 1,
             "tickcolor": "rgb(36,36,36)",
             "ticks": "outside"
            },
            "colorscale": [
             [
              0,
              "#440154"
             ],
             [
              0.1111111111111111,
              "#482878"
             ],
             [
              0.2222222222222222,
              "#3e4989"
             ],
             [
              0.3333333333333333,
              "#31688e"
             ],
             [
              0.4444444444444444,
              "#26828e"
             ],
             [
              0.5555555555555556,
              "#1f9e89"
             ],
             [
              0.6666666666666666,
              "#35b779"
             ],
             [
              0.7777777777777778,
              "#6ece58"
             ],
             [
              0.8888888888888888,
              "#b5de2b"
             ],
             [
              1,
              "#fde725"
             ]
            ],
            "type": "heatmapgl"
           }
          ],
          "histogram": [
           {
            "marker": {
             "line": {
              "color": "white",
              "width": 0.6
             }
            },
            "type": "histogram"
           }
          ],
          "histogram2d": [
           {
            "colorbar": {
             "outlinewidth": 1,
             "tickcolor": "rgb(36,36,36)",
             "ticks": "outside"
            },
            "colorscale": [
             [
              0,
              "#440154"
             ],
             [
              0.1111111111111111,
              "#482878"
             ],
             [
              0.2222222222222222,
              "#3e4989"
             ],
             [
              0.3333333333333333,
              "#31688e"
             ],
             [
              0.4444444444444444,
              "#26828e"
             ],
             [
              0.5555555555555556,
              "#1f9e89"
             ],
             [
              0.6666666666666666,
              "#35b779"
             ],
             [
              0.7777777777777778,
              "#6ece58"
             ],
             [
              0.8888888888888888,
              "#b5de2b"
             ],
             [
              1,
              "#fde725"
             ]
            ],
            "type": "histogram2d"
           }
          ],
          "histogram2dcontour": [
           {
            "colorbar": {
             "outlinewidth": 1,
             "tickcolor": "rgb(36,36,36)",
             "ticks": "outside"
            },
            "colorscale": [
             [
              0,
              "#440154"
             ],
             [
              0.1111111111111111,
              "#482878"
             ],
             [
              0.2222222222222222,
              "#3e4989"
             ],
             [
              0.3333333333333333,
              "#31688e"
             ],
             [
              0.4444444444444444,
              "#26828e"
             ],
             [
              0.5555555555555556,
              "#1f9e89"
             ],
             [
              0.6666666666666666,
              "#35b779"
             ],
             [
              0.7777777777777778,
              "#6ece58"
             ],
             [
              0.8888888888888888,
              "#b5de2b"
             ],
             [
              1,
              "#fde725"
             ]
            ],
            "type": "histogram2dcontour"
           }
          ],
          "mesh3d": [
           {
            "colorbar": {
             "outlinewidth": 1,
             "tickcolor": "rgb(36,36,36)",
             "ticks": "outside"
            },
            "type": "mesh3d"
           }
          ],
          "parcoords": [
           {
            "line": {
             "colorbar": {
              "outlinewidth": 1,
              "tickcolor": "rgb(36,36,36)",
              "ticks": "outside"
             }
            },
            "type": "parcoords"
           }
          ],
          "pie": [
           {
            "automargin": true,
            "type": "pie"
           }
          ],
          "scatter": [
           {
            "fillpattern": {
             "fillmode": "overlay",
             "size": 10,
             "solidity": 0.2
            },
            "type": "scatter"
           }
          ],
          "scatter3d": [
           {
            "line": {
             "colorbar": {
              "outlinewidth": 1,
              "tickcolor": "rgb(36,36,36)",
              "ticks": "outside"
             }
            },
            "marker": {
             "colorbar": {
              "outlinewidth": 1,
              "tickcolor": "rgb(36,36,36)",
              "ticks": "outside"
             }
            },
            "type": "scatter3d"
           }
          ],
          "scattercarpet": [
           {
            "marker": {
             "colorbar": {
              "outlinewidth": 1,
              "tickcolor": "rgb(36,36,36)",
              "ticks": "outside"
             }
            },
            "type": "scattercarpet"
           }
          ],
          "scattergeo": [
           {
            "marker": {
             "colorbar": {
              "outlinewidth": 1,
              "tickcolor": "rgb(36,36,36)",
              "ticks": "outside"
             }
            },
            "type": "scattergeo"
           }
          ],
          "scattergl": [
           {
            "marker": {
             "colorbar": {
              "outlinewidth": 1,
              "tickcolor": "rgb(36,36,36)",
              "ticks": "outside"
             }
            },
            "type": "scattergl"
           }
          ],
          "scattermapbox": [
           {
            "marker": {
             "colorbar": {
              "outlinewidth": 1,
              "tickcolor": "rgb(36,36,36)",
              "ticks": "outside"
             }
            },
            "type": "scattermapbox"
           }
          ],
          "scatterpolar": [
           {
            "marker": {
             "colorbar": {
              "outlinewidth": 1,
              "tickcolor": "rgb(36,36,36)",
              "ticks": "outside"
             }
            },
            "type": "scatterpolar"
           }
          ],
          "scatterpolargl": [
           {
            "marker": {
             "colorbar": {
              "outlinewidth": 1,
              "tickcolor": "rgb(36,36,36)",
              "ticks": "outside"
             }
            },
            "type": "scatterpolargl"
           }
          ],
          "scatterternary": [
           {
            "marker": {
             "colorbar": {
              "outlinewidth": 1,
              "tickcolor": "rgb(36,36,36)",
              "ticks": "outside"
             }
            },
            "type": "scatterternary"
           }
          ],
          "surface": [
           {
            "colorbar": {
             "outlinewidth": 1,
             "tickcolor": "rgb(36,36,36)",
             "ticks": "outside"
            },
            "colorscale": [
             [
              0,
              "#440154"
             ],
             [
              0.1111111111111111,
              "#482878"
             ],
             [
              0.2222222222222222,
              "#3e4989"
             ],
             [
              0.3333333333333333,
              "#31688e"
             ],
             [
              0.4444444444444444,
              "#26828e"
             ],
             [
              0.5555555555555556,
              "#1f9e89"
             ],
             [
              0.6666666666666666,
              "#35b779"
             ],
             [
              0.7777777777777778,
              "#6ece58"
             ],
             [
              0.8888888888888888,
              "#b5de2b"
             ],
             [
              1,
              "#fde725"
             ]
            ],
            "type": "surface"
           }
          ],
          "table": [
           {
            "cells": {
             "fill": {
              "color": "rgb(237,237,237)"
             },
             "line": {
              "color": "white"
             }
            },
            "header": {
             "fill": {
              "color": "rgb(217,217,217)"
             },
             "line": {
              "color": "white"
             }
            },
            "type": "table"
           }
          ]
         },
         "layout": {
          "annotationdefaults": {
           "arrowhead": 0,
           "arrowwidth": 1
          },
          "autotypenumbers": "strict",
          "coloraxis": {
           "colorbar": {
            "outlinewidth": 1,
            "tickcolor": "rgb(36,36,36)",
            "ticks": "outside"
           }
          },
          "colorscale": {
           "diverging": [
            [
             0,
             "rgb(103,0,31)"
            ],
            [
             0.1,
             "rgb(178,24,43)"
            ],
            [
             0.2,
             "rgb(214,96,77)"
            ],
            [
             0.3,
             "rgb(244,165,130)"
            ],
            [
             0.4,
             "rgb(253,219,199)"
            ],
            [
             0.5,
             "rgb(247,247,247)"
            ],
            [
             0.6,
             "rgb(209,229,240)"
            ],
            [
             0.7,
             "rgb(146,197,222)"
            ],
            [
             0.8,
             "rgb(67,147,195)"
            ],
            [
             0.9,
             "rgb(33,102,172)"
            ],
            [
             1,
             "rgb(5,48,97)"
            ]
           ],
           "sequential": [
            [
             0,
             "#440154"
            ],
            [
             0.1111111111111111,
             "#482878"
            ],
            [
             0.2222222222222222,
             "#3e4989"
            ],
            [
             0.3333333333333333,
             "#31688e"
            ],
            [
             0.4444444444444444,
             "#26828e"
            ],
            [
             0.5555555555555556,
             "#1f9e89"
            ],
            [
             0.6666666666666666,
             "#35b779"
            ],
            [
             0.7777777777777778,
             "#6ece58"
            ],
            [
             0.8888888888888888,
             "#b5de2b"
            ],
            [
             1,
             "#fde725"
            ]
           ],
           "sequentialminus": [
            [
             0,
             "#440154"
            ],
            [
             0.1111111111111111,
             "#482878"
            ],
            [
             0.2222222222222222,
             "#3e4989"
            ],
            [
             0.3333333333333333,
             "#31688e"
            ],
            [
             0.4444444444444444,
             "#26828e"
            ],
            [
             0.5555555555555556,
             "#1f9e89"
            ],
            [
             0.6666666666666666,
             "#35b779"
            ],
            [
             0.7777777777777778,
             "#6ece58"
            ],
            [
             0.8888888888888888,
             "#b5de2b"
            ],
            [
             1,
             "#fde725"
            ]
           ]
          },
          "colorway": [
           "#1F77B4",
           "#FF7F0E",
           "#2CA02C",
           "#D62728",
           "#9467BD",
           "#8C564B",
           "#E377C2",
           "#7F7F7F",
           "#BCBD22",
           "#17BECF"
          ],
          "font": {
           "color": "rgb(36,36,36)"
          },
          "geo": {
           "bgcolor": "white",
           "lakecolor": "white",
           "landcolor": "white",
           "showlakes": true,
           "showland": true,
           "subunitcolor": "white"
          },
          "hoverlabel": {
           "align": "left"
          },
          "hovermode": "closest",
          "mapbox": {
           "style": "light"
          },
          "paper_bgcolor": "white",
          "plot_bgcolor": "white",
          "polar": {
           "angularaxis": {
            "gridcolor": "rgb(232,232,232)",
            "linecolor": "rgb(36,36,36)",
            "showgrid": false,
            "showline": true,
            "ticks": "outside"
           },
           "bgcolor": "white",
           "radialaxis": {
            "gridcolor": "rgb(232,232,232)",
            "linecolor": "rgb(36,36,36)",
            "showgrid": false,
            "showline": true,
            "ticks": "outside"
           }
          },
          "scene": {
           "xaxis": {
            "backgroundcolor": "white",
            "gridcolor": "rgb(232,232,232)",
            "gridwidth": 2,
            "linecolor": "rgb(36,36,36)",
            "showbackground": true,
            "showgrid": false,
            "showline": true,
            "ticks": "outside",
            "zeroline": false,
            "zerolinecolor": "rgb(36,36,36)"
           },
           "yaxis": {
            "backgroundcolor": "white",
            "gridcolor": "rgb(232,232,232)",
            "gridwidth": 2,
            "linecolor": "rgb(36,36,36)",
            "showbackground": true,
            "showgrid": false,
            "showline": true,
            "ticks": "outside",
            "zeroline": false,
            "zerolinecolor": "rgb(36,36,36)"
           },
           "zaxis": {
            "backgroundcolor": "white",
            "gridcolor": "rgb(232,232,232)",
            "gridwidth": 2,
            "linecolor": "rgb(36,36,36)",
            "showbackground": true,
            "showgrid": false,
            "showline": true,
            "ticks": "outside",
            "zeroline": false,
            "zerolinecolor": "rgb(36,36,36)"
           }
          },
          "shapedefaults": {
           "fillcolor": "black",
           "line": {
            "width": 0
           },
           "opacity": 0.3
          },
          "ternary": {
           "aaxis": {
            "gridcolor": "rgb(232,232,232)",
            "linecolor": "rgb(36,36,36)",
            "showgrid": false,
            "showline": true,
            "ticks": "outside"
           },
           "baxis": {
            "gridcolor": "rgb(232,232,232)",
            "linecolor": "rgb(36,36,36)",
            "showgrid": false,
            "showline": true,
            "ticks": "outside"
           },
           "bgcolor": "white",
           "caxis": {
            "gridcolor": "rgb(232,232,232)",
            "linecolor": "rgb(36,36,36)",
            "showgrid": false,
            "showline": true,
            "ticks": "outside"
           }
          },
          "title": {
           "x": 0.05
          },
          "xaxis": {
           "automargin": true,
           "gridcolor": "rgb(232,232,232)",
           "linecolor": "rgb(36,36,36)",
           "showgrid": false,
           "showline": true,
           "ticks": "outside",
           "title": {
            "standoff": 15
           },
           "zeroline": false,
           "zerolinecolor": "rgb(36,36,36)"
          },
          "yaxis": {
           "automargin": true,
           "gridcolor": "rgb(232,232,232)",
           "linecolor": "rgb(36,36,36)",
           "showgrid": false,
           "showline": true,
           "ticks": "outside",
           "title": {
            "standoff": 15
           },
           "zeroline": false,
           "zerolinecolor": "rgb(36,36,36)"
          }
         }
        },
        "title": {
         "font": {
          "color": "Black",
          "size": 22
         },
         "text": "<b>Topics per Class</b>",
         "x": 0.4,
         "xanchor": "center",
         "y": 0.95,
         "yanchor": "top"
        },
        "width": 1250,
        "xaxis": {
         "showgrid": true,
         "title": {
          "text": "Frequency"
         }
        },
        "yaxis": {
         "showgrid": true,
         "title": {
          "text": "Class"
         }
        }
       }
      },
      "text/html": [
       "<div>                            <div id=\"191e3b77-8124-4f71-85d7-188072e69abb\" class=\"plotly-graph-div\" style=\"height:900px; width:1250px;\"></div>            <script type=\"text/javascript\">                require([\"plotly\"], function(Plotly) {                    window.PLOTLYENV=window.PLOTLYENV || {};                                    if (document.getElementById(\"191e3b77-8124-4f71-85d7-188072e69abb\")) {                    Plotly.newPlot(                        \"191e3b77-8124-4f71-85d7-188072e69abb\",                        [{\"hoverinfo\":\"text\",\"hovertext\":[\"\\u003cb\\u003eTopic 0\\u003c\\u002fb\\u003e\\u003cbr\\u003eWords: jcssageccpurdueedu, stalnaker, oooo, pureesageccjcs, ernest\",\"\\u003cb\\u003eTopic 0\\u003c\\u002fb\\u003e\\u003cbr\\u003eWords: quinea, papua, translation, buying, seriously\",\"\\u003cb\\u003eTopic 0\\u003c\\u002fb\\u003e\\u003cbr\\u003eWords: jets, phill, ratings, bianchi, addresss\",\"\\u003cb\\u003eTopic 0\\u003c\\u002fb\\u003e\\u003cbr\\u003eWords: tickets, ticket, contains, airlines, airline\",\"\\u003cb\\u003eTopic 0\\u003c\\u002fb\\u003e\\u003cbr\\u003eWords: game, team, hockey, games, 25\",\"\\u003cb\\u003eTopic 0\\u003c\\u002fb\\u003e\\u003cbr\\u003eWords: station, clementine, song, dcx1, unscheduled\",\"\\u003cb\\u003eTopic 0\\u003c\\u002fb\\u003e\\u003cbr\\u003eWords: dominant, dominance, cross, eye, study\",\"\\u003cb\\u003eTopic 0\\u003c\\u002fb\\u003e\\u003cbr\\u003eWords: embalmer, it175, umanitoba, jorg, gsxr1100\",\"\\u003cb\\u003eTopic 0\\u003c\\u002fb\\u003e\\u003cbr\\u003eWords: ticket, v4, v5, allegation, magnitude\",\"\\u003cb\\u003eTopic 0\\u003c\\u002fb\\u003e\\u003cbr\\u003eWords: sturm, doug, familiar, anyone, with\",\"\\u003cb\\u003eTopic 0\\u003c\\u002fb\\u003e\\u003cbr\\u003eWords: prisoners, sections, stones, pitchers, anon15031anonpenetfi\",\"\\u003cb\\u003eTopic 0\\u003c\\u002fb\\u003e\\u003cbr\\u003eWords: game, team, he, games, year\",\"\\u003cb\\u003eTopic 0\\u003c\\u002fb\\u003e\\u003cbr\\u003eWords: chrysler, chorus, dollar, sf, buffs\",\"\\u003cb\\u003eTopic 0\\u003c\\u002fb\\u003e\\u003cbr\\u003eWords: conner, beautiful, bravo, bill, johnson\",\"\\u003cb\\u003eTopic 0\\u003c\\u002fb\\u003e\\u003cbr\\u003eWords: soccer, conference, philcmacseemcgillca, chicago, 45th\"],\"marker\":{\"color\":\"#E69F00\"},\"name\":\"0_game_team_games_he\",\"orientation\":\"h\",\"visible\":true,\"x\":[1,1,5,24,907,4,3,9,2,1,6,858,5,2,3],\"y\":[\"comp.sys.mac.hardware\",\"comp.sys.ibm.pc.hardware\",\"talk.politics.guns\",\"misc.forsale\",\"rec.sport.hockey\",\"sci.space\",\"sci.med\",\"rec.motorcycles\",\"sci.crypt\",\"soc.religion.christian\",\"talk.politics.mideast\",\"rec.sport.baseball\",\"talk.politics.misc\",\"alt.atheism\",\"sci.electronics\"],\"type\":\"bar\"},{\"hoverinfo\":\"text\",\"hovertext\":[\"\\u003cb\\u003eTopic 1\\u003c\\u002fb\\u003e\\u003cbr\\u003eWords: sequences, parser, esc, dsc, compliant\",\"\\u003cb\\u003eTopic 1\\u003c\\u002fb\\u003e\\u003cbr\\u003eWords: rewards, info, npr, secure, public\",\"\\u003cb\\u003eTopic 1\\u003c\\u002fb\\u003e\\u003cbr\\u003eWords: typos, hooks, greetings, al, clipper\",\"\\u003cb\\u003eTopic 1\\u003c\\u002fb\\u003e\\u003cbr\\u003eWords: prizms, lterature, lloking, lsi, geos\",\"\\u003cb\\u003eTopic 1\\u003c\\u002fb\\u003e\\u003cbr\\u003eWords: publish, scoriates, conically, intelliegence, moeny\",\"\\u003cb\\u003eTopic 1\\u003c\\u002fb\\u003e\\u003cbr\\u003eWords: ssn, whoa, smoking, foods, eh\",\"\\u003cb\\u003eTopic 1\\u003c\\u002fb\\u003e\\u003cbr\\u003eWords: key, clipper, chip, encryption, keys\",\"\\u003cb\\u003eTopic 1\\u003c\\u002fb\\u003e\\u003cbr\\u003eWords: monitoring, ish, igcs, tienanmien, balkanmideast\",\"\\u003cb\\u003eTopic 1\\u003c\\u002fb\\u003e\\u003cbr\\u003eWords: heisenberg, berg, mlb, npr, mccarthy\",\"\\u003cb\\u003eTopic 1\\u003c\\u002fb\\u003e\\u003cbr\\u003eWords: initiative, wiretapping, ho, urge, clintons\",\"\\u003cb\\u003eTopic 1\\u003c\\u002fb\\u003e\\u003cbr\\u003eWords: keys, mathew, broadcasting, impropriety, government\",\"\\u003cb\\u003eTopic 1\\u003c\\u002fb\\u003e\\u003cbr\\u003eWords: key, cityanytown, namejoe, address123, keyldslfoialsdkcdsngsikhsfd\",\"\\u003cb\\u003eTopic 1\\u003c\\u002fb\\u003e\\u003cbr\\u003eWords: kgbatf, cote, right, defending, he\"],\"marker\":{\"color\":\"#56B4E9\"},\"name\":\"1_key_clipper_chip_encryption\",\"orientation\":\"h\",\"visible\":\"legendonly\",\"x\":[1,4,1,1,2,1,565,2,1,5,3,3,1],\"y\":[\"comp.windows.x\",\"talk.politics.guns\",\"misc.forsale\",\"rec.autos\",\"sci.space\",\"sci.med\",\"sci.crypt\",\"talk.politics.mideast\",\"rec.sport.baseball\",\"talk.politics.misc\",\"alt.atheism\",\"sci.electronics\",\"talk.religion.misc\"],\"type\":\"bar\"},{\"hoverinfo\":\"text\",\"hovertext\":[\"\\u003cb\\u003eTopic 2\\u003c\\u002fb\\u003e\\u003cbr\\u003eWords: idjits, ites, cheek, dancing, yep\",\"\\u003cb\\u003eTopic 2\\u003c\\u002fb\\u003e\\u003cbr\\u003eWords: each, idjits, ites, cheek, dancing\",\"\\u003cb\\u003eTopic 2\\u003c\\u002fb\\u003e\\u003cbr\\u003eWords: idjits, ites, cheek, dancing, yep\",\"\\u003cb\\u003eTopic 2\\u003c\\u002fb\\u003e\\u003cbr\\u003eWords: idjits, ites, cheek, dancing, yep\",\"\\u003cb\\u003eTopic 2\\u003c\\u002fb\\u003e\\u003cbr\\u003eWords: ken, idjits, ites, cheek, dancing\",\"\\u003cb\\u003eTopic 2\\u003c\\u002fb\\u003e\\u003cbr\\u003eWords: idjits, ites, cheek, dancing, yep\",\"\\u003cb\\u003eTopic 2\\u003c\\u002fb\\u003e\\u003cbr\\u003eWords: ites, cheek, 15, idjits, dancing\",\"\\u003cb\\u003eTopic 2\\u003c\\u002fb\\u003e\\u003cbr\\u003eWords: idjits, ites, cheek, dancing, yep\",\"\\u003cb\\u003eTopic 2\\u003c\\u002fb\\u003e\\u003cbr\\u003eWords: idjits, ites, cheek, dancing, yep\",\"\\u003cb\\u003eTopic 2\\u003c\\u002fb\\u003e\\u003cbr\\u003eWords: idjits, ites, cheek, dancing, yep\",\"\\u003cb\\u003eTopic 2\\u003c\\u002fb\\u003e\\u003cbr\\u003eWords: idjits, ites, cheek, dancing, yep\",\"\\u003cb\\u003eTopic 2\\u003c\\u002fb\\u003e\\u003cbr\\u003eWords: idjits, dancing, yep, huh, ignore\",\"\\u003cb\\u003eTopic 2\\u003c\\u002fb\\u003e\\u003cbr\\u003eWords: idjits, ites, cheek, dancing, yep\",\"\\u003cb\\u003eTopic 2\\u003c\\u002fb\\u003e\\u003cbr\\u003eWords: idjits, ites, cheek, dancing, yep\",\"\\u003cb\\u003eTopic 2\\u003c\\u002fb\\u003e\\u003cbr\\u003eWords: idjits, ites, cheek, dancing, yep\",\"\\u003cb\\u003eTopic 2\\u003c\\u002fb\\u003e\\u003cbr\\u003eWords: why, idjits, ites, cheek, dancing\",\"\\u003cb\\u003eTopic 2\\u003c\\u002fb\\u003e\\u003cbr\\u003eWords: idjits, ites, cheek, dancing, yep\",\"\\u003cb\\u003eTopic 2\\u003c\\u002fb\\u003e\\u003cbr\\u003eWords: idjits, ites, cheek, dancing, yep\",\"\\u003cb\\u003eTopic 2\\u003c\\u002fb\\u003e\\u003cbr\\u003eWords: idjits, ites, cheek, dancing, yep\",\"\\u003cb\\u003eTopic 2\\u003c\\u002fb\\u003e\\u003cbr\\u003eWords: idjits, ites, cheek, dancing, yep\"],\"marker\":{\"color\":\"#009E73\"},\"name\":\"2_idjits_ites_cheek_dancing\",\"orientation\":\"h\",\"visible\":\"legendonly\",\"x\":[6,35,18,24,17,25,56,32,30,38,18,31,29,22,21,38,19,20,26,23],\"y\":[\"comp.windows.x\",\"comp.sys.mac.hardware\",\"comp.sys.ibm.pc.hardware\",\"talk.politics.guns\",\"misc.forsale\",\"rec.sport.hockey\",\"rec.autos\",\"sci.space\",\"sci.med\",\"comp.os.ms-windows.misc\",\"comp.graphics\",\"rec.motorcycles\",\"sci.crypt\",\"soc.religion.christian\",\"talk.politics.mideast\",\"rec.sport.baseball\",\"talk.politics.misc\",\"alt.atheism\",\"sci.electronics\",\"talk.religion.misc\"],\"type\":\"bar\"},{\"hoverinfo\":\"text\",\"hovertext\":[\"\\u003cb\\u003eTopic 3\\u003c\\u002fb\\u003e\\u003cbr\\u003eWords: nazi, dodd, law, gca, jpfo\",\"\\u003cb\\u003eTopic 3\\u003c\\u002fb\\u003e\\u003cbr\\u003eWords: skirmish, wasting, bandwidth, occurred, referring\",\"\\u003cb\\u003eTopic 3\\u003c\\u002fb\\u003e\\u003cbr\\u003eWords: jp, scratching, nz, kr, scum\",\"\\u003cb\\u003eTopic 3\\u003c\\u002fb\\u003e\\u003cbr\\u003eWords: jewish, proselytism, speak, jews, dinner\",\"\\u003cb\\u003eTopic 3\\u003c\\u002fb\\u003e\\u003cbr\\u003eWords: israel, israeli, jews, arab, arabs\",\"\\u003cb\\u003eTopic 3\\u003c\\u002fb\\u003e\\u003cbr\\u003eWords: mutually, polish, exclusive, jewish, not\",\"\\u003cb\\u003eTopic 3\\u003c\\u002fb\\u003e\\u003cbr\\u003eWords: hitler, nazis, limbaugh, chancellor, party\",\"\\u003cb\\u003eTopic 3\\u003c\\u002fb\\u003e\\u003cbr\\u003eWords: jews, bombing, israel, antisemitism, civilians\",\"\\u003cb\\u003eTopic 3\\u003c\\u002fb\\u003e\\u003cbr\\u003eWords: intermediate, sockets, skip, bandwidth, hitler\",\"\\u003cb\\u003eTopic 3\\u003c\\u002fb\\u003e\\u003cbr\\u003eWords: nazis, homosexuality, jews, roehm, christian\"],\"marker\":{\"color\":\"#F0E442\"},\"name\":\"3_israel_israeli_jews_arab\",\"orientation\":\"h\",\"visible\":\"legendonly\",\"x\":[5,1,2,4,404,1,8,15,1,12],\"y\":[\"talk.politics.guns\",\"rec.sport.hockey\",\"rec.autos\",\"soc.religion.christian\",\"talk.politics.mideast\",\"rec.sport.baseball\",\"talk.politics.misc\",\"alt.atheism\",\"sci.electronics\",\"talk.religion.misc\"],\"type\":\"bar\"},{\"hoverinfo\":\"text\",\"hovertext\":[\"\\u003cb\\u003eTopic 4\\u003c\\u002fb\\u003e\\u003cbr\\u003eWords: sco, mailing, subscribe, list, newsgroups\",\"\\u003cb\\u003eTopic 4\\u003c\\u002fb\\u003e\\u003cbr\\u003eWords: nutek, address, caere, kelley, unlockfolder\",\"\\u003cb\\u003eTopic 4\\u003c\\u002fb\\u003e\\u003cbr\\u003eWords: vote, voting, votes, publishing, unmoderated\",\"\\u003cb\\u003eTopic 4\\u003c\\u002fb\\u003e\\u003cbr\\u003eWords: petenholonetnet, c601edcd6cpqhousehoucompaqcom, petenwellsfcaus, nortonhouamococom, thomasrcpqhousehoucompaqcom\",\"\\u003cb\\u003eTopic 4\\u003c\\u002fb\\u003e\\u003cbr\\u003eWords: inguiry, computerforsale, addresser1eridanchuvashiasu, mailings, call\",\"\\u003cb\\u003eTopic 4\\u003c\\u002fb\\u003e\\u003cbr\\u003eWords: 1993apr2121103812363newshubistsca, rocketcalvincsunbca, 131202310, dchhabrastplistsca, dotted\",\"\\u003cb\\u003eTopic 4\\u003c\\u002fb\\u003e\\u003cbr\\u003eWords: requests, send, recautos, list, mailing\",\"\\u003cb\\u003eTopic 4\\u003c\\u002fb\\u003e\\u003cbr\\u003eWords: scispace, posts, space, list, email\",\"\\u003cb\\u003eTopic 4\\u003c\\u002fb\\u003e\\u003cbr\\u003eWords: health, cancer, disease, tobacco, medical\",\"\\u003cb\\u003eTopic 4\\u003c\\u002fb\\u003e\\u003cbr\\u003eWords: access, bitmaps, newsgroup, rdbms, wysiwyg\",\"\\u003cb\\u003eTopic 4\\u003c\\u002fb\\u003e\\u003cbr\\u003eWords: liefting, group, newsgroup, turkey, aspects\",\"\\u003cb\\u003eTopic 4\\u003c\\u002fb\\u003e\\u003cbr\\u003eWords: mail, motoheadcscoloradoedu, panties, 725173356compuservecom, listservfriggiscbrcom\",\"\\u003cb\\u003eTopic 4\\u003c\\u002fb\\u003e\\u003cbr\\u003eWords: 8546889, tisdom, tiscom, jedpolluxuscedu, walkertiscom\",\"\\u003cb\\u003eTopic 4\\u003c\\u002fb\\u003e\\u003cbr\\u003eWords: ahmadiyya, votes, newsgroup, vote, religions\",\"\\u003cb\\u003eTopic 4\\u003c\\u002fb\\u003e\\u003cbr\\u003eWords: cosar, mailbox, ahmet, c705, 6123767873\",\"\\u003cb\\u003eTopic 4\\u003c\\u002fb\\u003e\\u003cbr\\u003eWords: mailing, list, cardinals, email, address\",\"\\u003cb\\u003eTopic 4\\u003c\\u002fb\\u003e\\u003cbr\\u003eWords: agrevates, brandon, bashing, informative, fools\",\"\\u003cb\\u003eTopic 4\\u003c\\u002fb\\u003e\\u003cbr\\u003eWords: deleted, add, jsn104, toughto, dkoreshbranchdavidiancompoundwacotxus\",\"\\u003cb\\u003eTopic 4\\u003c\\u002fb\\u003e\\u003cbr\\u003eWords: pdt, andymacraecorpsuncom, yxy4145usledu, apr, newsgroup\",\"\\u003cb\\u003eTopic 4\\u003c\\u002fb\\u003e\\u003cbr\\u003eWords: holladay, compuservecom, 721051351compuservecom, 171194, 841171194\"],\"marker\":{\"color\":\"#D55E00\"},\"name\":\"4_health_newsgroup_cancer_list\",\"orientation\":\"h\",\"visible\":\"legendonly\",\"x\":[33,8,9,3,14,5,16,20,21,28,35,9,9,12,9,16,3,10,17,7],\"y\":[\"comp.windows.x\",\"comp.sys.mac.hardware\",\"comp.sys.ibm.pc.hardware\",\"talk.politics.guns\",\"misc.forsale\",\"rec.sport.hockey\",\"rec.autos\",\"sci.space\",\"sci.med\",\"comp.os.ms-windows.misc\",\"comp.graphics\",\"rec.motorcycles\",\"sci.crypt\",\"soc.religion.christian\",\"talk.politics.mideast\",\"rec.sport.baseball\",\"talk.politics.misc\",\"alt.atheism\",\"sci.electronics\",\"talk.religion.misc\"],\"type\":\"bar\"},{\"hoverinfo\":\"text\",\"hovertext\":[\"\\u003cb\\u003eTopic 5\\u003c\\u002fb\\u003e\\u003cbr\\u003eWords: xterm, error, x11r5, server, xdm\",\"\\u003cb\\u003eTopic 5\\u003c\\u002fb\\u003e\\u003cbr\\u003eWords: 6172755800, gcc, handy, tech, number\",\"\\u003cb\\u003eTopic 5\\u003c\\u002fb\\u003e\\u003cbr\\u003eWords: gcc, libc, bad, ram, kernel\",\"\\u003cb\\u003eTopic 5\\u003c\\u002fb\\u003e\\u003cbr\\u003eWords: bwc, void, const, functions, samename\",\"\\u003cb\\u003eTopic 5\\u003c\\u002fb\\u003e\\u003cbr\\u003eWords: sometimes, client, bugs, dogfight, server\",\"\\u003cb\\u003eTopic 5\\u003c\\u002fb\\u003e\\u003cbr\\u003eWords: spoofing, josh, marc, commands, described\",\"\\u003cb\\u003eTopic 5\\u003c\\u002fb\\u003e\\u003cbr\\u003eWords: ultrix, steve, running, youre, see\"],\"marker\":{\"color\":\"#0072B2\"},\"name\":\"5_xterm_error_x11r5_server\",\"orientation\":\"h\",\"visible\":\"legendonly\",\"x\":[192,1,1,4,6,1,1],\"y\":[\"comp.windows.x\",\"comp.sys.mac.hardware\",\"comp.sys.ibm.pc.hardware\",\"comp.os.ms-windows.misc\",\"comp.graphics\",\"sci.crypt\",\"talk.religion.misc\"],\"type\":\"bar\"},{\"hoverinfo\":\"text\",\"hovertext\":[\"\\u003cb\\u003eTopic 6\\u003c\\u002fb\\u003e\\u003cbr\\u003eWords: life, formed, planetsterilizing, sterilizing, predate\",\"\\u003cb\\u003eTopic 6\\u003c\\u002fb\\u003e\\u003cbr\\u003eWords: agnostic, god, believe, selfproclaimed, atheist\",\"\\u003cb\\u003eTopic 6\\u003c\\u002fb\\u003e\\u003cbr\\u003eWords: god, atheists, existence, faith, atheism\",\"\\u003cb\\u003eTopic 6\\u003c\\u002fb\\u003e\\u003cbr\\u003eWords: religious, religion, beliefs, religions, produced\",\"\\u003cb\\u003eTopic 6\\u003c\\u002fb\\u003e\\u003cbr\\u003eWords: atheists, god, atheism, atheist, argument\",\"\\u003cb\\u003eTopic 6\\u003c\\u002fb\\u003e\\u003cbr\\u003eWords: god, atheists, you, science, believe\"],\"marker\":{\"color\":\"#CC79A7\"},\"name\":\"6_god_atheists_atheism_atheist\",\"orientation\":\"h\",\"visible\":\"legendonly\",\"x\":[1,4,41,3,127,27],\"y\":[\"sci.space\",\"sci.med\",\"soc.religion.christian\",\"talk.politics.misc\",\"alt.atheism\",\"talk.religion.misc\"],\"type\":\"bar\"},{\"hoverinfo\":\"text\",\"hovertext\":[\"\\u003cb\\u003eTopic 7\\u003c\\u002fb\\u003e\\u003cbr\\u003eWords: 3931216, dinette, cobalt, milano, exsoviet\",\"\\u003cb\\u003eTopic 7\\u003c\\u002fb\\u003e\\u003cbr\\u003eWords: car, cars, mustang, ford, engine\",\"\\u003cb\\u003eTopic 7\\u003c\\u002fb\\u003e\\u003cbr\\u003eWords: joe, rs71, mippselled, lbj, dubbed\",\"\\u003cb\\u003eTopic 7\\u003c\\u002fb\\u003e\\u003cbr\\u003eWords: indiginous, posers, midsized, anemic, volvos\",\"\\u003cb\\u003eTopic 7\\u003c\\u002fb\\u003e\\u003cbr\\u003eWords: bulgaria, vesselin, embargo, controls, plenty\"],\"marker\":{\"color\":\"#E69F00\"},\"name\":\"7_car_cars_ford_mustang\",\"orientation\":\"h\",\"visible\":\"legendonly\",\"x\":[2,172,2,2,1],\"y\":[\"misc.forsale\",\"rec.autos\",\"sci.space\",\"rec.motorcycles\",\"sci.crypt\"],\"type\":\"bar\"},{\"hoverinfo\":\"text\",\"hovertext\":[\"\\u003cb\\u003eTopic 8\\u003c\\u002fb\\u003e\\u003cbr\\u003eWords: mower, bike, tires, rear, lawn\",\"\\u003cb\\u003eTopic 8\\u003c\\u002fb\\u003e\\u003cbr\\u003eWords: tires, fluids, bike, brake, car\",\"\\u003cb\\u003eTopic 8\\u003c\\u002fb\\u003e\\u003cbr\\u003eWords: bike, bikes, miles, tire, tires\"],\"marker\":{\"color\":\"#56B4E9\"},\"name\":\"8_bike_tires_tire_bikes\",\"orientation\":\"h\",\"visible\":\"legendonly\",\"x\":[12,14,135],\"y\":[\"misc.forsale\",\"rec.autos\",\"rec.motorcycles\"],\"type\":\"bar\"},{\"hoverinfo\":\"text\",\"hovertext\":[\"\\u003cb\\u003eTopic 9\\u003c\\u002fb\\u003e\\u003cbr\\u003eWords: slick, chances, discussed, kept, direct\",\"\\u003cb\\u003eTopic 9\\u003c\\u002fb\\u003e\\u003cbr\\u003eWords: let, rephrasing, shoving, merciful, everyone\",\"\\u003cb\\u003eTopic 9\\u003c\\u002fb\\u003e\\u003cbr\\u003eWords: seinfeld, sex, hung, flamboyance, boobs\",\"\\u003cb\\u003eTopic 9\\u003c\\u002fb\\u003e\\u003cbr\\u003eWords: fud, jen, advocacy, wheres, preaching\",\"\\u003cb\\u003eTopic 9\\u003c\\u002fb\\u003e\\u003cbr\\u003eWords: less, 10, really, think, than\",\"\\u003cb\\u003eTopic 9\\u003c\\u002fb\\u003e\\u003cbr\\u003eWords: bunghole, peasized, closeted, wannabe, feeble\",\"\\u003cb\\u003eTopic 9\\u003c\\u002fb\\u003e\\u003cbr\\u003eWords: homosexuality, bestiality, sexual, homosexual, gay\",\"\\u003cb\\u003eTopic 9\\u003c\\u002fb\\u003e\\u003cbr\\u003eWords: butits, homour, alternative, objections, terrible\",\"\\u003cb\\u003eTopic 9\\u003c\\u002fb\\u003e\\u003cbr\\u003eWords: gay, homosexual, sexual, sex, men\",\"\\u003cb\\u003eTopic 9\\u003c\\u002fb\\u003e\\u003cbr\\u003eWords: enviroleague, bsa, sex, gay, youth\",\"\\u003cb\\u003eTopic 9\\u003c\\u002fb\\u003e\\u003cbr\\u003eWords: gay, caligiuri, gays, sex, exgay\"],\"marker\":{\"color\":\"#009E73\"},\"name\":\"9_gay_sex_homosexual_sexual\",\"orientation\":\"h\",\"visible\":\"legendonly\",\"x\":[1,1,2,1,1,1,4,1,129,12,4],\"y\":[\"rec.autos\",\"sci.space\",\"sci.med\",\"comp.os.ms-windows.misc\",\"comp.graphics\",\"rec.motorcycles\",\"soc.religion.christian\",\"talk.politics.mideast\",\"talk.politics.misc\",\"alt.atheism\",\"talk.religion.misc\"],\"type\":\"bar\"}],                        {\"template\":{\"data\":{\"barpolar\":[{\"marker\":{\"line\":{\"color\":\"white\",\"width\":0.5},\"pattern\":{\"fillmode\":\"overlay\",\"size\":10,\"solidity\":0.2}},\"type\":\"barpolar\"}],\"bar\":[{\"error_x\":{\"color\":\"rgb(36,36,36)\"},\"error_y\":{\"color\":\"rgb(36,36,36)\"},\"marker\":{\"line\":{\"color\":\"white\",\"width\":0.5},\"pattern\":{\"fillmode\":\"overlay\",\"size\":10,\"solidity\":0.2}},\"type\":\"bar\"}],\"carpet\":[{\"aaxis\":{\"endlinecolor\":\"rgb(36,36,36)\",\"gridcolor\":\"white\",\"linecolor\":\"white\",\"minorgridcolor\":\"white\",\"startlinecolor\":\"rgb(36,36,36)\"},\"baxis\":{\"endlinecolor\":\"rgb(36,36,36)\",\"gridcolor\":\"white\",\"linecolor\":\"white\",\"minorgridcolor\":\"white\",\"startlinecolor\":\"rgb(36,36,36)\"},\"type\":\"carpet\"}],\"choropleth\":[{\"colorbar\":{\"outlinewidth\":1,\"tickcolor\":\"rgb(36,36,36)\",\"ticks\":\"outside\"},\"type\":\"choropleth\"}],\"contourcarpet\":[{\"colorbar\":{\"outlinewidth\":1,\"tickcolor\":\"rgb(36,36,36)\",\"ticks\":\"outside\"},\"type\":\"contourcarpet\"}],\"contour\":[{\"colorbar\":{\"outlinewidth\":1,\"tickcolor\":\"rgb(36,36,36)\",\"ticks\":\"outside\"},\"colorscale\":[[0.0,\"#440154\"],[0.1111111111111111,\"#482878\"],[0.2222222222222222,\"#3e4989\"],[0.3333333333333333,\"#31688e\"],[0.4444444444444444,\"#26828e\"],[0.5555555555555556,\"#1f9e89\"],[0.6666666666666666,\"#35b779\"],[0.7777777777777778,\"#6ece58\"],[0.8888888888888888,\"#b5de2b\"],[1.0,\"#fde725\"]],\"type\":\"contour\"}],\"heatmapgl\":[{\"colorbar\":{\"outlinewidth\":1,\"tickcolor\":\"rgb(36,36,36)\",\"ticks\":\"outside\"},\"colorscale\":[[0.0,\"#440154\"],[0.1111111111111111,\"#482878\"],[0.2222222222222222,\"#3e4989\"],[0.3333333333333333,\"#31688e\"],[0.4444444444444444,\"#26828e\"],[0.5555555555555556,\"#1f9e89\"],[0.6666666666666666,\"#35b779\"],[0.7777777777777778,\"#6ece58\"],[0.8888888888888888,\"#b5de2b\"],[1.0,\"#fde725\"]],\"type\":\"heatmapgl\"}],\"heatmap\":[{\"colorbar\":{\"outlinewidth\":1,\"tickcolor\":\"rgb(36,36,36)\",\"ticks\":\"outside\"},\"colorscale\":[[0.0,\"#440154\"],[0.1111111111111111,\"#482878\"],[0.2222222222222222,\"#3e4989\"],[0.3333333333333333,\"#31688e\"],[0.4444444444444444,\"#26828e\"],[0.5555555555555556,\"#1f9e89\"],[0.6666666666666666,\"#35b779\"],[0.7777777777777778,\"#6ece58\"],[0.8888888888888888,\"#b5de2b\"],[1.0,\"#fde725\"]],\"type\":\"heatmap\"}],\"histogram2dcontour\":[{\"colorbar\":{\"outlinewidth\":1,\"tickcolor\":\"rgb(36,36,36)\",\"ticks\":\"outside\"},\"colorscale\":[[0.0,\"#440154\"],[0.1111111111111111,\"#482878\"],[0.2222222222222222,\"#3e4989\"],[0.3333333333333333,\"#31688e\"],[0.4444444444444444,\"#26828e\"],[0.5555555555555556,\"#1f9e89\"],[0.6666666666666666,\"#35b779\"],[0.7777777777777778,\"#6ece58\"],[0.8888888888888888,\"#b5de2b\"],[1.0,\"#fde725\"]],\"type\":\"histogram2dcontour\"}],\"histogram2d\":[{\"colorbar\":{\"outlinewidth\":1,\"tickcolor\":\"rgb(36,36,36)\",\"ticks\":\"outside\"},\"colorscale\":[[0.0,\"#440154\"],[0.1111111111111111,\"#482878\"],[0.2222222222222222,\"#3e4989\"],[0.3333333333333333,\"#31688e\"],[0.4444444444444444,\"#26828e\"],[0.5555555555555556,\"#1f9e89\"],[0.6666666666666666,\"#35b779\"],[0.7777777777777778,\"#6ece58\"],[0.8888888888888888,\"#b5de2b\"],[1.0,\"#fde725\"]],\"type\":\"histogram2d\"}],\"histogram\":[{\"marker\":{\"line\":{\"color\":\"white\",\"width\":0.6}},\"type\":\"histogram\"}],\"mesh3d\":[{\"colorbar\":{\"outlinewidth\":1,\"tickcolor\":\"rgb(36,36,36)\",\"ticks\":\"outside\"},\"type\":\"mesh3d\"}],\"parcoords\":[{\"line\":{\"colorbar\":{\"outlinewidth\":1,\"tickcolor\":\"rgb(36,36,36)\",\"ticks\":\"outside\"}},\"type\":\"parcoords\"}],\"pie\":[{\"automargin\":true,\"type\":\"pie\"}],\"scatter3d\":[{\"line\":{\"colorbar\":{\"outlinewidth\":1,\"tickcolor\":\"rgb(36,36,36)\",\"ticks\":\"outside\"}},\"marker\":{\"colorbar\":{\"outlinewidth\":1,\"tickcolor\":\"rgb(36,36,36)\",\"ticks\":\"outside\"}},\"type\":\"scatter3d\"}],\"scattercarpet\":[{\"marker\":{\"colorbar\":{\"outlinewidth\":1,\"tickcolor\":\"rgb(36,36,36)\",\"ticks\":\"outside\"}},\"type\":\"scattercarpet\"}],\"scattergeo\":[{\"marker\":{\"colorbar\":{\"outlinewidth\":1,\"tickcolor\":\"rgb(36,36,36)\",\"ticks\":\"outside\"}},\"type\":\"scattergeo\"}],\"scattergl\":[{\"marker\":{\"colorbar\":{\"outlinewidth\":1,\"tickcolor\":\"rgb(36,36,36)\",\"ticks\":\"outside\"}},\"type\":\"scattergl\"}],\"scattermapbox\":[{\"marker\":{\"colorbar\":{\"outlinewidth\":1,\"tickcolor\":\"rgb(36,36,36)\",\"ticks\":\"outside\"}},\"type\":\"scattermapbox\"}],\"scatterpolargl\":[{\"marker\":{\"colorbar\":{\"outlinewidth\":1,\"tickcolor\":\"rgb(36,36,36)\",\"ticks\":\"outside\"}},\"type\":\"scatterpolargl\"}],\"scatterpolar\":[{\"marker\":{\"colorbar\":{\"outlinewidth\":1,\"tickcolor\":\"rgb(36,36,36)\",\"ticks\":\"outside\"}},\"type\":\"scatterpolar\"}],\"scatter\":[{\"fillpattern\":{\"fillmode\":\"overlay\",\"size\":10,\"solidity\":0.2},\"type\":\"scatter\"}],\"scatterternary\":[{\"marker\":{\"colorbar\":{\"outlinewidth\":1,\"tickcolor\":\"rgb(36,36,36)\",\"ticks\":\"outside\"}},\"type\":\"scatterternary\"}],\"surface\":[{\"colorbar\":{\"outlinewidth\":1,\"tickcolor\":\"rgb(36,36,36)\",\"ticks\":\"outside\"},\"colorscale\":[[0.0,\"#440154\"],[0.1111111111111111,\"#482878\"],[0.2222222222222222,\"#3e4989\"],[0.3333333333333333,\"#31688e\"],[0.4444444444444444,\"#26828e\"],[0.5555555555555556,\"#1f9e89\"],[0.6666666666666666,\"#35b779\"],[0.7777777777777778,\"#6ece58\"],[0.8888888888888888,\"#b5de2b\"],[1.0,\"#fde725\"]],\"type\":\"surface\"}],\"table\":[{\"cells\":{\"fill\":{\"color\":\"rgb(237,237,237)\"},\"line\":{\"color\":\"white\"}},\"header\":{\"fill\":{\"color\":\"rgb(217,217,217)\"},\"line\":{\"color\":\"white\"}},\"type\":\"table\"}]},\"layout\":{\"annotationdefaults\":{\"arrowhead\":0,\"arrowwidth\":1},\"autotypenumbers\":\"strict\",\"coloraxis\":{\"colorbar\":{\"outlinewidth\":1,\"tickcolor\":\"rgb(36,36,36)\",\"ticks\":\"outside\"}},\"colorscale\":{\"diverging\":[[0.0,\"rgb(103,0,31)\"],[0.1,\"rgb(178,24,43)\"],[0.2,\"rgb(214,96,77)\"],[0.3,\"rgb(244,165,130)\"],[0.4,\"rgb(253,219,199)\"],[0.5,\"rgb(247,247,247)\"],[0.6,\"rgb(209,229,240)\"],[0.7,\"rgb(146,197,222)\"],[0.8,\"rgb(67,147,195)\"],[0.9,\"rgb(33,102,172)\"],[1.0,\"rgb(5,48,97)\"]],\"sequential\":[[0.0,\"#440154\"],[0.1111111111111111,\"#482878\"],[0.2222222222222222,\"#3e4989\"],[0.3333333333333333,\"#31688e\"],[0.4444444444444444,\"#26828e\"],[0.5555555555555556,\"#1f9e89\"],[0.6666666666666666,\"#35b779\"],[0.7777777777777778,\"#6ece58\"],[0.8888888888888888,\"#b5de2b\"],[1.0,\"#fde725\"]],\"sequentialminus\":[[0.0,\"#440154\"],[0.1111111111111111,\"#482878\"],[0.2222222222222222,\"#3e4989\"],[0.3333333333333333,\"#31688e\"],[0.4444444444444444,\"#26828e\"],[0.5555555555555556,\"#1f9e89\"],[0.6666666666666666,\"#35b779\"],[0.7777777777777778,\"#6ece58\"],[0.8888888888888888,\"#b5de2b\"],[1.0,\"#fde725\"]]},\"colorway\":[\"#1F77B4\",\"#FF7F0E\",\"#2CA02C\",\"#D62728\",\"#9467BD\",\"#8C564B\",\"#E377C2\",\"#7F7F7F\",\"#BCBD22\",\"#17BECF\"],\"font\":{\"color\":\"rgb(36,36,36)\"},\"geo\":{\"bgcolor\":\"white\",\"lakecolor\":\"white\",\"landcolor\":\"white\",\"showlakes\":true,\"showland\":true,\"subunitcolor\":\"white\"},\"hoverlabel\":{\"align\":\"left\"},\"hovermode\":\"closest\",\"mapbox\":{\"style\":\"light\"},\"paper_bgcolor\":\"white\",\"plot_bgcolor\":\"white\",\"polar\":{\"angularaxis\":{\"gridcolor\":\"rgb(232,232,232)\",\"linecolor\":\"rgb(36,36,36)\",\"showgrid\":false,\"showline\":true,\"ticks\":\"outside\"},\"bgcolor\":\"white\",\"radialaxis\":{\"gridcolor\":\"rgb(232,232,232)\",\"linecolor\":\"rgb(36,36,36)\",\"showgrid\":false,\"showline\":true,\"ticks\":\"outside\"}},\"scene\":{\"xaxis\":{\"backgroundcolor\":\"white\",\"gridcolor\":\"rgb(232,232,232)\",\"gridwidth\":2,\"linecolor\":\"rgb(36,36,36)\",\"showbackground\":true,\"showgrid\":false,\"showline\":true,\"ticks\":\"outside\",\"zeroline\":false,\"zerolinecolor\":\"rgb(36,36,36)\"},\"yaxis\":{\"backgroundcolor\":\"white\",\"gridcolor\":\"rgb(232,232,232)\",\"gridwidth\":2,\"linecolor\":\"rgb(36,36,36)\",\"showbackground\":true,\"showgrid\":false,\"showline\":true,\"ticks\":\"outside\",\"zeroline\":false,\"zerolinecolor\":\"rgb(36,36,36)\"},\"zaxis\":{\"backgroundcolor\":\"white\",\"gridcolor\":\"rgb(232,232,232)\",\"gridwidth\":2,\"linecolor\":\"rgb(36,36,36)\",\"showbackground\":true,\"showgrid\":false,\"showline\":true,\"ticks\":\"outside\",\"zeroline\":false,\"zerolinecolor\":\"rgb(36,36,36)\"}},\"shapedefaults\":{\"fillcolor\":\"black\",\"line\":{\"width\":0},\"opacity\":0.3},\"ternary\":{\"aaxis\":{\"gridcolor\":\"rgb(232,232,232)\",\"linecolor\":\"rgb(36,36,36)\",\"showgrid\":false,\"showline\":true,\"ticks\":\"outside\"},\"baxis\":{\"gridcolor\":\"rgb(232,232,232)\",\"linecolor\":\"rgb(36,36,36)\",\"showgrid\":false,\"showline\":true,\"ticks\":\"outside\"},\"bgcolor\":\"white\",\"caxis\":{\"gridcolor\":\"rgb(232,232,232)\",\"linecolor\":\"rgb(36,36,36)\",\"showgrid\":false,\"showline\":true,\"ticks\":\"outside\"}},\"title\":{\"x\":0.05},\"xaxis\":{\"automargin\":true,\"gridcolor\":\"rgb(232,232,232)\",\"linecolor\":\"rgb(36,36,36)\",\"showgrid\":false,\"showline\":true,\"ticks\":\"outside\",\"title\":{\"standoff\":15},\"zeroline\":false,\"zerolinecolor\":\"rgb(36,36,36)\"},\"yaxis\":{\"automargin\":true,\"gridcolor\":\"rgb(232,232,232)\",\"linecolor\":\"rgb(36,36,36)\",\"showgrid\":false,\"showline\":true,\"ticks\":\"outside\",\"title\":{\"standoff\":15},\"zeroline\":false,\"zerolinecolor\":\"rgb(36,36,36)\"}}},\"xaxis\":{\"showgrid\":true,\"title\":{\"text\":\"Frequency\"}},\"yaxis\":{\"showgrid\":true,\"title\":{\"text\":\"Class\"}},\"title\":{\"font\":{\"size\":22,\"color\":\"Black\"},\"text\":\"\\u003cb\\u003eTopics per Class\\u003c\\u002fb\\u003e\",\"y\":0.95,\"x\":0.4,\"xanchor\":\"center\",\"yanchor\":\"top\"},\"hoverlabel\":{\"font\":{\"size\":16,\"family\":\"Rockwell\"},\"bgcolor\":\"white\"},\"width\":1250,\"height\":900,\"legend\":{\"title\":{\"text\":\"\\u003cb\\u003eGlobal Topic Representation\"}}},                        {\"responsive\": true}                    ).then(function(){\n",
       "                            \n",
       "var gd = document.getElementById('191e3b77-8124-4f71-85d7-188072e69abb');\n",
       "var x = new MutationObserver(function (mutations, observer) {{\n",
       "        var display = window.getComputedStyle(gd).display;\n",
       "        if (!display || display === 'none') {{\n",
       "            console.log([gd, 'removed!']);\n",
       "            Plotly.purge(gd);\n",
       "            observer.disconnect();\n",
       "        }}\n",
       "}});\n",
       "\n",
       "// Listen for the removal of the full notebook cells\n",
       "var notebookContainer = gd.closest('#notebook-container');\n",
       "if (notebookContainer) {{\n",
       "    x.observe(notebookContainer, {childList: true});\n",
       "}}\n",
       "\n",
       "// Listen for the clearing of the current output cell\n",
       "var outputEl = gd.closest('.output');\n",
       "if (outputEl) {{\n",
       "    x.observe(outputEl, {childList: true});\n",
       "}}\n",
       "\n",
       "                        })                };                });            </script>        </div>"
      ]
     },
     "metadata": {},
     "output_type": "display_data"
    }
   ],
   "source": [
    "topics_per_class = topic_model.topics_per_class(docs, classes=classes)\n",
    "fig_unsupervised = topic_model.visualize_topics_per_class(topics_per_class, top_n_topics=10)\n",
    "fig_unsupervised"
   ]
  },
  {
   "cell_type": "code",
   "execution_count": 13,
   "id": "e1a75993-cab3-49f6-b589-c4d42950970f",
   "metadata": {
    "tags": []
   },
   "outputs": [],
   "source": [
    "labels_to_add = ['comp.graphics', 'comp.os.ms-windows.misc',\n",
    "                  'comp.sys.ibm.pc.hardware', 'comp.sys.mac.hardware',\n",
    "                  'comp.windows.x',]\n",
    "indices = [target_names.index(label) for label in labels_to_add]\n",
    "new_labels = [label if label in indices else -1 for label in targets]"
   ]
  },
  {
   "cell_type": "code",
   "execution_count": 14,
   "id": "2df0462e-9a7c-44d5-8bd1-31f20159da7a",
   "metadata": {
    "collapsed": true,
    "jupyter": {
     "outputs_hidden": true
    },
    "tags": []
   },
   "outputs": [
    {
     "data": {
      "application/vnd.jupyter.widget-view+json": {
       "model_id": "8593c42920834869909c742d9d583919",
       "version_major": 2,
       "version_minor": 0
      },
      "text/plain": [
       "Batches:   0%|          | 0/589 [00:00<?, ?it/s]"
      ]
     },
     "metadata": {},
     "output_type": "display_data"
    },
    {
     "name": "stderr",
     "output_type": "stream",
     "text": [
      "2023-09-27 17:06:36,570 - BERTopic - Transformed documents to Embeddings\n",
      "2023-09-27 17:06:42,061 - BERTopic - Reduced dimensionality\n"
     ]
    },
    {
     "name": "stdout",
     "output_type": "stream",
     "text": [
      "huggingface/tokenizers: The current process just got forked, after parallelism has already been used. Disabling parallelism to avoid deadlocks...\n",
      "To disable this warning, you can either:\n",
      "\t- Avoid using `tokenizers` before the fork if possible\n",
      "\t- Explicitly set the environment variable TOKENIZERS_PARALLELISM=(true | false)\n",
      "huggingface/tokenizers: The current process just got forked, after parallelism has already been used. Disabling parallelism to avoid deadlocks...\n",
      "To disable this warning, you can either:\n",
      "\t- Avoid using `tokenizers` before the fork if possible\n",
      "\t- Explicitly set the environment variable TOKENIZERS_PARALLELISM=(true | false)\n",
      "huggingface/tokenizers: The current process just got forked, after parallelism has already been used. Disabling parallelism to avoid deadlocks...\n",
      "To disable this warning, you can either:\n",
      "\t- Avoid using `tokenizers` before the fork if possible\n",
      "\t- Explicitly set the environment variable TOKENIZERS_PARALLELISM=(true | false)\n",
      "huggingface/tokenizers: The current process just got forked, after parallelism has already been used. Disabling parallelism to avoid deadlocks...\n",
      "To disable this warning, you can either:\n",
      "\t- Avoid using `tokenizers` before the fork if possible\n",
      "\t- Explicitly set the environment variable TOKENIZERS_PARALLELISM=(true | false)\n"
     ]
    },
    {
     "name": "stderr",
     "output_type": "stream",
     "text": [
      "2023-09-27 17:06:42,960 - BERTopic - Clustered reduced embeddings\n"
     ]
    }
   ],
   "source": [
    "topic_model = BERTopic(verbose=True)\n",
    "topics, _ = topic_model.fit_transform(docs, y=new_labels)"
   ]
  }
 ],
 "metadata": {
  "kernelspec": {
   "display_name": "Python 3 (ipykernel)",
   "language": "python",
   "name": "python3"
  },
  "language_info": {
   "codemirror_mode": {
    "name": "ipython",
    "version": 3
   },
   "file_extension": ".py",
   "mimetype": "text/x-python",
   "name": "python",
   "nbconvert_exporter": "python",
   "pygments_lexer": "ipython3",
   "version": "3.11.4"
  }
 },
 "nbformat": 4,
 "nbformat_minor": 5
}
